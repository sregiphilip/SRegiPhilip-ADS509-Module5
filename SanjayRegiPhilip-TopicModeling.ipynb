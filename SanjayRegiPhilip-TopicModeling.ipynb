{
 "cells": [
  {
   "cell_type": "markdown",
   "id": "4b33db48",
   "metadata": {},
   "source": [
    "# Sanjay Regi Philip Assignment 5.1"
   ]
  },
  {
   "cell_type": "markdown",
   "id": "bce2bb89",
   "metadata": {},
   "source": [
    "# ADS 509 Assignment 5.1: Topic Modeling\n",
    "\n",
    "This notebook holds Assignment 5.1 for Module 5 in ADS 509, Applied Text Mining. Work through this notebook, writing code and answering questions where required. \n",
    "\n",
    "In this assignment you will work with a categorical corpus that accompanies `nltk`. You will build the three types of topic models described in Chapter 8 of _Blueprints for Text Analytics using Python_: NMF, LSA, and LDA. You will compare these models to the true categories. \n"
   ]
  },
  {
   "cell_type": "code",
   "execution_count": 1,
   "id": "a85bce08",
   "metadata": {
    "scrolled": true
   },
   "outputs": [],
   "source": [
    "# These libraries may be useful to you\n",
    "\n",
    "from nltk.corpus import brown\n",
    "\n",
    "import numpy as np\n",
    "import pandas as pd\n",
    "from tqdm.auto import tqdm\n",
    "\n",
    "import pyLDAvis\n",
    "import pyLDAvis.sklearn\n",
    "import pyLDAvis.gensim_models\n",
    "\n",
    "import spacy\n",
    "\n",
    " \n",
    "from sklearn.feature_extraction.text import TfidfVectorizer, CountVectorizer ##scikit-learn version < 1.0 required\n",
    "from sklearn.decomposition import NMF, TruncatedSVD, LatentDirichletAllocation\n",
    "\n",
    "from spacy.lang.en.stop_words import STOP_WORDS\n",
    "stopwords = list(STOP_WORDS) ## CountVectorizer requires stopwords as list\n",
    "\n",
    "from collections import Counter, defaultdict\n",
    "\n",
    "nlp = spacy.load('en_core_web_sm')\n",
    "\n",
    "import logging\n",
    "logging.captureWarnings(True)"
   ]
  },
  {
   "cell_type": "code",
   "execution_count": 2,
   "id": "494de237",
   "metadata": {},
   "outputs": [],
   "source": [
    "# This function comes from the BTAP repo.\n",
    "\n",
    "def display_topics(model, features, no_top_words=5):\n",
    "    for topic, words in enumerate(model.components_):\n",
    "        total = words.sum()\n",
    "        largest = words.argsort()[::-1] # invert sort order\n",
    "        print(\"\\nTopic %02d\" % topic)\n",
    "        for i in range(0, no_top_words):\n",
    "            print(\"  %s (%2.2f)\" % (features[largest[i]], abs(words[largest[i]]*100.0/total)))"
   ]
  },
  {
   "cell_type": "markdown",
   "id": "a30a901c",
   "metadata": {},
   "source": [
    "## Getting to Know the Brown Corpus\n",
    "\n",
    "Let's spend a bit of time getting to know what's in the Brown corpus, our NLTK example of an \"overlapping\" corpus."
   ]
  },
  {
   "cell_type": "code",
   "execution_count": 3,
   "id": "457c59ed",
   "metadata": {
    "scrolled": false
   },
   "outputs": [
    {
     "name": "stdout",
     "output_type": "stream",
     "text": [
      "For adventure we have 29 articles.\n",
      "For belles_lettres we have 75 articles.\n",
      "For editorial we have 27 articles.\n",
      "For fiction we have 29 articles.\n",
      "For government we have 30 articles.\n",
      "For hobbies we have 36 articles.\n",
      "For humor we have 9 articles.\n",
      "For learned we have 80 articles.\n",
      "For lore we have 48 articles.\n",
      "For mystery we have 24 articles.\n",
      "For news we have 44 articles.\n",
      "For religion we have 17 articles.\n",
      "For reviews we have 17 articles.\n",
      "For romance we have 29 articles.\n",
      "For science_fiction we have 6 articles.\n"
     ]
    }
   ],
   "source": [
    "# categories of articles in Brown corpus\n",
    "for category in brown.categories() :\n",
    "    print(f\"For {category} we have {len(brown.fileids(categories=category))} articles.\")"
   ]
  },
  {
   "cell_type": "markdown",
   "id": "23fb133c",
   "metadata": {},
   "source": [
    "Let's create a dataframe of the articles in of hobbies, editorial, government, news, and romance."
   ]
  },
  {
   "cell_type": "code",
   "execution_count": 4,
   "id": "18f50b9d",
   "metadata": {},
   "outputs": [
    {
     "data": {
      "text/plain": [
       "(166, 3)"
      ]
     },
     "execution_count": 4,
     "metadata": {},
     "output_type": "execute_result"
    }
   ],
   "source": [
    "categories = ['editorial','government','news','romance','hobbies'] \n",
    "\n",
    "category_list = []\n",
    "file_ids = []\n",
    "texts = []\n",
    "\n",
    "for category in categories : \n",
    "    for file_id in brown.fileids(categories=category) :\n",
    "        \n",
    "        # build some lists for a dataframe\n",
    "        category_list.append(category)\n",
    "        file_ids.append(file_id)\n",
    "        \n",
    "        text = brown.words(fileids=file_id)\n",
    "        texts.append(\" \".join(text))\n",
    "\n",
    "        \n",
    "        \n",
    "df = pd.DataFrame()\n",
    "df['category'] = category_list\n",
    "df['id'] = file_ids\n",
    "df['text'] = texts \n",
    "\n",
    "df.shape"
   ]
  },
  {
   "cell_type": "code",
   "execution_count": 5,
   "id": "586f47de",
   "metadata": {},
   "outputs": [],
   "source": [
    "# Let's add some helpful columns on the df\n",
    "df['char_len'] = df['text'].apply(len)\n",
    "df['word_len'] = df['text'].apply(lambda x: len(x.split()))"
   ]
  },
  {
   "cell_type": "code",
   "execution_count": 6,
   "id": "2128fd2d",
   "metadata": {},
   "outputs": [
    {
     "data": {
      "text/plain": [
       "<AxesSubplot: xlabel='category'>"
      ]
     },
     "execution_count": 6,
     "metadata": {},
     "output_type": "execute_result"
    },
    {
     "data": {
      "image/png": "[encoded data removed]",
      "text/plain": [
       "<Figure size 1000x600 with 1 Axes>"
      ]
     },
     "metadata": {},
     "output_type": "display_data"
    }
   ],
   "source": [
    "%matplotlib inline\n",
    "df.groupby('category').agg({'word_len': 'mean'}).plot.bar(figsize=(10,6))"
   ]
  },
  {
   "cell_type": "markdown",
   "id": "554ffeb5",
   "metadata": {},
   "source": [
    "Now do our TF-IDF and Count vectorizations."
   ]
  },
  {
   "cell_type": "code",
   "execution_count": 7,
   "id": "21a7d247",
   "metadata": {
    "scrolled": false
   },
   "outputs": [
    {
     "data": {
      "text/plain": [
       "(166, 4941)"
      ]
     },
     "execution_count": 7,
     "metadata": {},
     "output_type": "execute_result"
    }
   ],
   "source": [
    "count_text_vectorizer = CountVectorizer(stop_words=stopwords, min_df=5, max_df=0.7)\n",
    "count_text_vectors = count_text_vectorizer.fit_transform(df[\"text\"])\n",
    "count_text_vectors.shape"
   ]
  },
  {
   "cell_type": "code",
   "execution_count": 8,
   "id": "875deba9",
   "metadata": {},
   "outputs": [
    {
     "data": {
      "text/plain": [
       "(166, 4941)"
      ]
     },
     "execution_count": 8,
     "metadata": {},
     "output_type": "execute_result"
    }
   ],
   "source": [
    "tfidf_text_vectorizer = TfidfVectorizer(stop_words=stopwords, min_df=5, max_df=0.7)\n",
    "tfidf_text_vectors = tfidf_text_vectorizer.fit_transform(df['text'])\n",
    "tfidf_text_vectors.shape"
   ]
  },
  {
   "cell_type": "markdown",
   "id": "a1062b21",
   "metadata": {},
   "source": [
    "Q: What do the two data frames `count_text_vectors` and `tfidf_text_vectors` hold? \n",
    "\n",
    "A: The dataframe count_text_vectors is a document matrix that takes the text from the selected categories of the brown corprus. It describes the token counts of documents in the selected categories of documents. The tfidf_text_vectors is also a document matrix from the selected cateogries of the brown corpus and instead contains TF-IDF features. The difference with the tfidf_text_vectors is that it both counts the frequency of tokens but also how important the token is to the text where as the count_text_vectors simply provides the frequency of a token in text."
   ]
  },
  {
   "cell_type": "markdown",
   "id": "f77c3f94",
   "metadata": {},
   "source": [
    "## Fitting a Non-Negative Matrix Factorization Model\n",
    "\n",
    "In this section the code to fit a five-topic NMF model has already been written. This code comes directly from the [BTAP repo](https://github.com/blueprints-for-text-analytics-python/blueprints-text), which will help you tremendously in the coming sections. "
   ]
  },
  {
   "cell_type": "code",
   "execution_count": 9,
   "id": "d28745a3",
   "metadata": {},
   "outputs": [],
   "source": [
    "nmf_text_model = NMF(n_components=5, random_state=314)\n",
    "W_text_matrix = nmf_text_model.fit_transform(tfidf_text_vectors)\n",
    "H_text_matrix = nmf_text_model.components_"
   ]
  },
  {
   "cell_type": "code",
   "execution_count": 10,
   "id": "a67185e7",
   "metadata": {
    "scrolled": false
   },
   "outputs": [
    {
     "name": "stdout",
     "output_type": "stream",
     "text": [
      "\n",
      "Topic 00\n",
      "  mr (0.51)\n",
      "  president (0.45)\n",
      "  kennedy (0.43)\n",
      "  united (0.42)\n",
      "  khrushchev (0.40)\n",
      "\n",
      "Topic 01\n",
      "  said (0.88)\n",
      "  didn (0.46)\n",
      "  ll (0.45)\n",
      "  thought (0.42)\n",
      "  man (0.37)\n",
      "\n",
      "Topic 02\n",
      "  state (0.40)\n",
      "  development (0.36)\n",
      "  tax (0.33)\n",
      "  sales (0.30)\n",
      "  program (0.25)\n",
      "\n",
      "Topic 03\n",
      "  mrs (2.61)\n",
      "  mr (0.78)\n",
      "  said (0.64)\n",
      "  miss (0.52)\n",
      "  car (0.51)\n",
      "\n",
      "Topic 04\n",
      "  game (1.01)\n",
      "  league (0.74)\n",
      "  ball (0.72)\n",
      "  baseball (0.71)\n",
      "  team (0.66)\n"
     ]
    }
   ],
   "source": [
    "#display_topics(nmf_text_model, tfidf_text_vectorizer.get_feature_names_out())\n",
    "display_topics(nmf_text_model, tfidf_text_vectorizer.get_feature_names())"
   ]
  },
  {
   "cell_type": "markdown",
   "id": "fee51e9b",
   "metadata": {},
   "source": [
    "Now some work for you to do. Compare the NMF factorization to the original categories from the Brown Corpus.\n",
    "\n",
    "We are interested in the extent to which our NMF factorization agrees or disagrees with the original categories in the corpus. For each topic in your NMF model, tally the Brown categories and interpret the results. \n"
   ]
  },
  {
   "cell_type": "code",
   "execution_count": 11,
   "id": "97801089",
   "metadata": {},
   "outputs": [
    {
     "data": {
      "text/plain": [
       "array([18.17705433, 25.86545606, 29.54609649, 14.40020472, 12.0111884 ])"
      ]
     },
     "execution_count": 11,
     "metadata": {},
     "output_type": "execute_result"
    }
   ],
   "source": [
    "W_text_matrix.sum(axis=0)/W_text_matrix.sum()*100.0"
   ]
  },
  {
   "cell_type": "markdown",
   "id": "f8d4e2bc",
   "metadata": {},
   "source": [
    "Q: How does your five-topic NMF model compare to the original Brown categories? \n",
    "\n",
    "A: When creating a graph of the word length of the original brown categories, we find that the word lengths are almost the same accross all 5 categories and so a successful topic model should also reflect similar lengths across the topics. When viewing the sum of results of the NMF model, we see the model categorizes a larger portion of the words under the 2nd and 3rd topics than the other remaining 3. That indicates that this topic model may not be performing as well as expected."
   ]
  },
  {
   "cell_type": "markdown",
   "id": "82e37cb5",
   "metadata": {},
   "source": [
    "## Fitting an LSA Model\n",
    "\n",
    "In this section, follow the example from the repository and fit an LSA model (called a \"TruncatedSVD\" in `sklearn`). Again fit a five-topic model and compare it to the actual categories in the Brown corpus. Use the TF-IDF vectors for your fit, as above. \n",
    "\n",
    "To be explicit, we are once again interested in the extent to which this LSA factorization agrees or disagrees with the original categories in the corpus. For each topic in your model, tally the Brown categories and interpret the results. \n"
   ]
  },
  {
   "cell_type": "code",
   "execution_count": 12,
   "id": "00b53d3d",
   "metadata": {},
   "outputs": [],
   "source": [
    "# Your code here\n",
    "lsa_text_model = TruncatedSVD(n_components=5, random_state=314)\n",
    "lsa_W_text_matrix = lsa_text_model.fit_transform(tfidf_text_vectors)\n",
    "lsa_H_text_matrix = lsa_text_model.components_"
   ]
  },
  {
   "cell_type": "code",
   "execution_count": 13,
   "id": "f37524eb",
   "metadata": {},
   "outputs": [
    {
     "data": {
      "text/plain": [
       "array([111.14707411,  -5.04956922,  -8.92711266,   2.13287762,\n",
       "         0.69673015])"
      ]
     },
     "execution_count": 13,
     "metadata": {},
     "output_type": "execute_result"
    }
   ],
   "source": [
    "lsa_W_text_matrix.sum(axis=0)/lsa_W_text_matrix.sum()*100.0"
   ]
  },
  {
   "cell_type": "markdown",
   "id": "4d94d56f",
   "metadata": {},
   "source": [
    "Q: How does your five-topic LSA model compare to the original Brown categories? \n",
    "\n",
    "A: This LSA Model seems to perform even more poorly than the MNF model as it is attributing almost all of the words to the first topic in a very imbalanced manner when we know that the tokens should ideally be distrubted accross all 5 tokens. This model does not seem to perform the topic modeling very well."
   ]
  },
  {
   "cell_type": "code",
   "execution_count": 14,
   "id": "377a886e",
   "metadata": {
    "scrolled": true
   },
   "outputs": [
    {
     "name": "stdout",
     "output_type": "stream",
     "text": [
      "\n",
      "Topic 00\n",
      "  said (0.44)\n",
      "  mr (0.25)\n",
      "  mrs (0.22)\n",
      "  state (0.20)\n",
      "  man (0.17)\n",
      "\n",
      "Topic 01\n",
      "  said (3.89)\n",
      "  ll (2.73)\n",
      "  didn (2.63)\n",
      "  thought (2.20)\n",
      "  got (1.97)\n",
      "\n",
      "Topic 02\n",
      "  mrs (3.12)\n",
      "  mr (1.70)\n",
      "  said (1.06)\n",
      "  kennedy (0.82)\n",
      "  khrushchev (0.77)\n",
      "\n",
      "Topic 03\n",
      "  mrs (29.45)\n",
      "  club (6.53)\n",
      "  game (6.12)\n",
      "  jr (5.60)\n",
      "  university (5.20)\n",
      "\n",
      "Topic 04\n",
      "  game (4.54)\n",
      "  league (3.27)\n",
      "  baseball (3.22)\n",
      "  ball (3.10)\n",
      "  team (2.94)\n"
     ]
    }
   ],
   "source": [
    "# call display_topics on your model\n",
    "display_topics(lsa_text_model, tfidf_text_vectorizer.get_feature_names())"
   ]
  },
  {
   "cell_type": "markdown",
   "id": "ea8b280a",
   "metadata": {},
   "source": [
    "Q: What is your interpretation of the display topics output? \n",
    "\n",
    "A: The display topics output shows that a much larger importance is given to topic 03 and the terms mrs (29.45), club (6.53), game (6.12), jr (5.60), university (5.20) than any other topic."
   ]
  },
  {
   "cell_type": "markdown",
   "id": "b4ab4d29",
   "metadata": {},
   "source": [
    "## Fitting an LDA Model\n",
    "\n",
    "Finally, fit a five-topic LDA model using the count vectors (`count_text_vectors` from above). Display the results using `pyLDAvis.display` and describe what you learn from that visualization. "
   ]
  },
  {
   "cell_type": "code",
   "execution_count": 15,
   "id": "802cb8ff",
   "metadata": {},
   "outputs": [],
   "source": [
    "# Fit your LDA model here\n",
    "# Your code here\n",
    "lda_text_model = LatentDirichletAllocation(n_components = 5, random_state=42)\n",
    "W_lda_text_matrix = lda_text_model.fit_transform(count_text_vectors)\n",
    "H_lda_text_matrix = lda_text_model.components_"
   ]
  },
  {
   "cell_type": "code",
   "execution_count": 16,
   "id": "ab18adf5",
   "metadata": {},
   "outputs": [
    {
     "name": "stdout",
     "output_type": "stream",
     "text": [
      "\n",
      "Topic 00\n",
      "  home (0.46)\n",
      "  right (0.35)\n",
      "  game (0.35)\n",
      "  way (0.34)\n",
      "  set (0.34)\n",
      "\n",
      "Topic 01\n",
      "  state (0.89)\n",
      "  development (0.57)\n",
      "  states (0.51)\n",
      "  program (0.46)\n",
      "  use (0.44)\n",
      "\n",
      "Topic 02\n",
      "  said (0.93)\n",
      "  mr (0.73)\n",
      "  president (0.63)\n",
      "  state (0.49)\n",
      "  mrs (0.48)\n",
      "\n",
      "Topic 03\n",
      "  feed (0.90)\n",
      "  general (0.73)\n",
      "  business (0.70)\n",
      "  property (0.69)\n",
      "  shall (0.67)\n",
      "\n",
      "Topic 04\n",
      "  said (1.56)\n",
      "  man (0.62)\n",
      "  little (0.62)\n",
      "  old (0.59)\n",
      "  good (0.53)\n"
     ]
    }
   ],
   "source": [
    "# Call `display_topics` on your fitted model here\n",
    "#display_topics(lda_text_model, tfidf_text_vectorizer.get_feature_names_out())\n",
    "display_topics(lda_text_model, tfidf_text_vectorizer.get_feature_names())"
   ]
  },
  {
   "cell_type": "code",
   "execution_count": 17,
   "id": "d445eb51",
   "metadata": {},
   "outputs": [
    {
     "data": {
      "text/plain": [
       "array([18.27700692, 22.10735909, 31.18127143,  7.31815768, 21.11620489])"
      ]
     },
     "execution_count": 17,
     "metadata": {},
     "output_type": "execute_result"
    }
   ],
   "source": [
    "W_lda_text_matrix.sum(axis=0)/W_lda_text_matrix.sum()*100.0"
   ]
  },
  {
   "cell_type": "markdown",
   "id": "f2c67876",
   "metadata": {},
   "source": [
    "Q: What inference do you draw from the displayed topics for your LDA model? \n",
    "\n",
    "A: The importance of the different words seems to have less variance in this model than it does in the other. Additionally, there are some words such as \"said\" that appear in 2 topics. The displayed topics here seem to show less of an imbalance in the importance of the individual words.\n",
    "\n",
    "Q: Repeat the tallying of Brown categories within your topics. How does your five-topic LDA model compare to the original Brown categories? \n",
    "\n",
    "A: The LDA model seems to distribute the importance of the words better than the other models and is almost fairly distributed except for that it underweights the 4th topic and overweights the 3rd topic."
   ]
  },
  {
   "cell_type": "markdown",
   "id": "682a871b",
   "metadata": {},
   "source": [
    "### Please note that there is a large deprecation warning given when using the pyLDAvis package. There was no option to remove this warning but please continue scrolling to see the end of the assignment."
   ]
  },
  {
   "cell_type": "code",
   "execution_count": 18,
   "id": "6aae75ca",
   "metadata": {
    "scrolled": false
   },
   "outputs": [
    {
     "name": "stderr",
     "output_type": "stream",
     "text": [
      "/opt/anaconda3/envs/ADS509/lib/python3.10/site-packages/sklearn/utils/multiclass.py:14: DeprecationWarning: Please use `spmatrix` from the `scipy.sparse` namespace, the `scipy.sparse.base` namespace is deprecated.\n",
      "  from scipy.sparse.base import spmatrix\n",
      "/opt/anaconda3/envs/ADS509/lib/python3.10/site-packages/sklearn/utils/multiclass.py:14: DeprecationWarning: Please use `spmatrix` from the `scipy.sparse` namespace, the `scipy.sparse.base` namespace is deprecated.\n",
      "  from scipy.sparse.base import spmatrix\n",
      "/opt/anaconda3/envs/ADS509/lib/python3.10/site-packages/sklearn/utils/multiclass.py:14: DeprecationWarning: Please use `spmatrix` from the `scipy.sparse` namespace, the `scipy.sparse.base` namespace is deprecated.\n",
      "  from scipy.sparse.base import spmatrix\n",
      "/opt/anaconda3/envs/ADS509/lib/python3.10/site-packages/sklearn/utils/multiclass.py:14: DeprecationWarning: Please use `spmatrix` from the `scipy.sparse` namespace, the `scipy.sparse.base` namespace is deprecated.\n",
      "  from scipy.sparse.base import spmatrix\n",
      "/opt/anaconda3/envs/ADS509/lib/python3.10/site-packages/sklearn/utils/optimize.py:18: DeprecationWarning: Please use `line_search_wolfe2` from the `scipy.optimize` namespace, the `scipy.optimize.linesearch` namespace is deprecated.\n",
      "  from scipy.optimize.linesearch import line_search_wolfe2, line_search_wolfe1\n",
      "/opt/anaconda3/envs/ADS509/lib/python3.10/site-packages/sklearn/utils/optimize.py:18: DeprecationWarning: Please use `line_search_wolfe1` from the `scipy.optimize` namespace, the `scipy.optimize.linesearch` namespace is deprecated.\n",
      "  from scipy.optimize.linesearch import line_search_wolfe2, line_search_wolfe1\n",
      "/opt/anaconda3/envs/ADS509/lib/python3.10/site-packages/sklearn/utils/multiclass.py:14: DeprecationWarning: Please use `spmatrix` from the `scipy.sparse` namespace, the `scipy.sparse.base` namespace is deprecated.\n",
      "  from scipy.sparse.base import spmatrix\n",
      "/opt/anaconda3/envs/ADS509/lib/python3.10/site-packages/sklearn/utils/optimize.py:18: DeprecationWarning: Please use `line_search_wolfe2` from the `scipy.optimize` namespace, the `scipy.optimize.linesearch` namespace is deprecated.\n",
      "  from scipy.optimize.linesearch import line_search_wolfe2, line_search_wolfe1\n",
      "/opt/anaconda3/envs/ADS509/lib/python3.10/site-packages/sklearn/utils/optimize.py:18: DeprecationWarning: Please use `line_search_wolfe1` from the `scipy.optimize` namespace, the `scipy.optimize.linesearch` namespace is deprecated.\n",
      "  from scipy.optimize.linesearch import line_search_wolfe2, line_search_wolfe1\n",
      "/opt/anaconda3/envs/ADS509/lib/python3.10/site-packages/sklearn/utils/optimize.py:18: DeprecationWarning: Please use `line_search_wolfe2` from the `scipy.optimize` namespace, the `scipy.optimize.linesearch` namespace is deprecated.\n",
      "  from scipy.optimize.linesearch import line_search_wolfe2, line_search_wolfe1\n",
      "/opt/anaconda3/envs/ADS509/lib/python3.10/site-packages/sklearn/utils/optimize.py:18: DeprecationWarning: Please use `line_search_wolfe1` from the `scipy.optimize` namespace, the `scipy.optimize.linesearch` namespace is deprecated.\n",
      "  from scipy.optimize.linesearch import line_search_wolfe2, line_search_wolfe1\n",
      "/opt/anaconda3/envs/ADS509/lib/python3.10/site-packages/sklearn/utils/optimize.py:18: DeprecationWarning: Please use `line_search_wolfe2` from the `scipy.optimize` namespace, the `scipy.optimize.linesearch` namespace is deprecated.\n",
      "  from scipy.optimize.linesearch import line_search_wolfe2, line_search_wolfe1\n",
      "/opt/anaconda3/envs/ADS509/lib/python3.10/site-packages/sklearn/utils/optimize.py:18: DeprecationWarning: Please use `line_search_wolfe1` from the `scipy.optimize` namespace, the `scipy.optimize.linesearch` namespace is deprecated.\n",
      "  from scipy.optimize.linesearch import line_search_wolfe2, line_search_wolfe1\n",
      "/opt/anaconda3/envs/ADS509/lib/python3.10/site-packages/sklearn/utils/optimize.py:18: DeprecationWarning: Please use `line_search_wolfe2` from the `scipy.optimize` namespace, the `scipy.optimize.linesearch` namespace is deprecated.\n",
      "  from scipy.optimize.linesearch import line_search_wolfe2, line_search_wolfe1\n",
      "/opt/anaconda3/envs/ADS509/lib/python3.10/site-packages/sklearn/utils/optimize.py:18: DeprecationWarning: Please use `line_search_wolfe1` from the `scipy.optimize` namespace, the `scipy.optimize.linesearch` namespace is deprecated.\n",
      "  from scipy.optimize.linesearch import line_search_wolfe2, line_search_wolfe1\n",
      "/opt/anaconda3/envs/ADS509/lib/python3.10/site-packages/sklearn/utils/multiclass.py:14: DeprecationWarning: Please use `spmatrix` from the `scipy.sparse` namespace, the `scipy.sparse.base` namespace is deprecated.\n",
      "  from scipy.sparse.base import spmatrix\n",
      "/opt/anaconda3/envs/ADS509/lib/python3.10/site-packages/sklearn/utils/multiclass.py:14: DeprecationWarning: Please use `spmatrix` from the `scipy.sparse` namespace, the `scipy.sparse.base` namespace is deprecated.\n",
      "  from scipy.sparse.base import spmatrix\n",
      "/opt/anaconda3/envs/ADS509/lib/python3.10/site-packages/sklearn/utils/multiclass.py:14: DeprecationWarning: Please use `spmatrix` from the `scipy.sparse` namespace, the `scipy.sparse.base` namespace is deprecated.\n",
      "  from scipy.sparse.base import spmatrix\n",
      "/opt/anaconda3/envs/ADS509/lib/python3.10/site-packages/sklearn/utils/optimize.py:18: DeprecationWarning: Please use `line_search_wolfe2` from the `scipy.optimize` namespace, the `scipy.optimize.linesearch` namespace is deprecated.\n",
      "  from scipy.optimize.linesearch import line_search_wolfe2, line_search_wolfe1\n",
      "/opt/anaconda3/envs/ADS509/lib/python3.10/site-packages/sklearn/utils/optimize.py:18: DeprecationWarning: Please use `line_search_wolfe1` from the `scipy.optimize` namespace, the `scipy.optimize.linesearch` namespace is deprecated.\n",
      "  from scipy.optimize.linesearch import line_search_wolfe2, line_search_wolfe1\n",
      "/opt/anaconda3/envs/ADS509/lib/python3.10/site-packages/sklearn/utils/multiclass.py:14: DeprecationWarning: Please use `spmatrix` from the `scipy.sparse` namespace, the `scipy.sparse.base` namespace is deprecated.\n",
      "  from scipy.sparse.base import spmatrix\n",
      "/opt/anaconda3/envs/ADS509/lib/python3.10/site-packages/sklearn/utils/optimize.py:18: DeprecationWarning: Please use `line_search_wolfe2` from the `scipy.optimize` namespace, the `scipy.optimize.linesearch` namespace is deprecated.\n",
      "  from scipy.optimize.linesearch import line_search_wolfe2, line_search_wolfe1\n",
      "/opt/anaconda3/envs/ADS509/lib/python3.10/site-packages/sklearn/utils/optimize.py:18: DeprecationWarning: Please use `line_search_wolfe1` from the `scipy.optimize` namespace, the `scipy.optimize.linesearch` namespace is deprecated.\n",
      "  from scipy.optimize.linesearch import line_search_wolfe2, line_search_wolfe1\n",
      "/opt/anaconda3/envs/ADS509/lib/python3.10/site-packages/sklearn/utils/optimize.py:18: DeprecationWarning: Please use `line_search_wolfe2` from the `scipy.optimize` namespace, the `scipy.optimize.linesearch` namespace is deprecated.\n",
      "  from scipy.optimize.linesearch import line_search_wolfe2, line_search_wolfe1\n",
      "/opt/anaconda3/envs/ADS509/lib/python3.10/site-packages/sklearn/utils/optimize.py:18: DeprecationWarning: Please use `line_search_wolfe1` from the `scipy.optimize` namespace, the `scipy.optimize.linesearch` namespace is deprecated.\n",
      "  from scipy.optimize.linesearch import line_search_wolfe2, line_search_wolfe1\n",
      "/opt/anaconda3/envs/ADS509/lib/python3.10/site-packages/sklearn/utils/optimize.py:18: DeprecationWarning: Please use `line_search_wolfe2` from the `scipy.optimize` namespace, the `scipy.optimize.linesearch` namespace is deprecated.\n",
      "  from scipy.optimize.linesearch import line_search_wolfe2, line_search_wolfe1\n",
      "/opt/anaconda3/envs/ADS509/lib/python3.10/site-packages/sklearn/utils/optimize.py:18: DeprecationWarning: Please use `line_search_wolfe1` from the `scipy.optimize` namespace, the `scipy.optimize.linesearch` namespace is deprecated.\n",
      "  from scipy.optimize.linesearch import line_search_wolfe2, line_search_wolfe1\n"
     ]
    }
   ],
   "source": [
    "lda_display = pyLDAvis.sklearn.prepare(lda_text_model, count_text_vectors, count_text_vectorizer, sort_topics=False)"
   ]
  },
  {
   "cell_type": "code",
   "execution_count": 19,
   "id": "2a89fc15",
   "metadata": {},
   "outputs": [
    {
     "data": {
      "text/html": [
       "\n",
       "<link rel=\"stylesheet\" type=\"text/css\" href=\"https://cdn.jsdelivr.net/gh/bmabey/pyLDAvis@3.3.1/pyLDAvis/js/ldavis.v1.0.0.css\">\n",
       "\n",
       "\n",
       "<div id=\"ldavis_el77377108026196481610660505\"></div>\n",
       "<script type=\"text/javascript\">\n",
       "\n",
       "var ldavis_el77377108026196481610660505_data = {\"mdsDat\": {\"x\": [-0.0890454910340859, 0.12393644925088823, 0.025500167589226484, 0.15979135455241367, -0.2201824803584426], \"y\": [0.16135617455413806, -0.009252658807315569, -0.04809236794047126, -0.01621239945342014, -0.08779874835293115], \"topics\": [1, 2, 3, 4, 5], \"cluster\": [1, 1, 1, 1, 1], \"Freq\": [17.447275076687003, 24.245910725798417, 32.831236255960846, 7.470347983418963, 18.005229958134777]}, \"tinfo\": {\"Term\": [\"said\", \"government\", \"general\", \"feed\", \"business\", \"united\", \"state\", \"states\", \"shall\", \"property\", \"department\", \"development\", \"act\", \"john\", \"didn\", \"tax\", \"ll\", \"thought\", \"mother\", \"president\", \"little\", \"board\", \"small\", \"local\", \"shelter\", \"don\", \"man\", \"old\", \"kennedy\", \"court\", \"player\", \"baseball\", \"panels\", \"leg\", \"yards\", \"yankees\", \"holes\", \"gallery\", \"vernon\", \"coach\", \"charlie\", \"plastic\", \"hits\", \"ball\", \"pittsburgh\", \"favorite\", \"runs\", \"pitcher\", \"hole\", \"pitching\", \"team\", \"paint\", \"stadium\", \"ruth\", \"willie\", \"bat\", \"homer\", \"amateur\", \"paintings\", \"chest\", \"pieces\", \"games\", \"cooling\", \"drill\", \"roy\", \"clay\", \"game\", \"bob\", \"golf\", \"season\", \"inch\", \"football\", \"playing\", \"hit\", \"frame\", \"piece\", \"league\", \"fig\", \"signs\", \"club\", \"cut\", \"junior\", \"play\", \"green\", \"run\", \"center\", \"home\", \"set\", \"won\", \"right\", \"place\", \"don\", \"second\", \"way\", \"house\", \"ll\", \"good\", \"work\", \"class\", \"mrs\", \"use\", \"left\", \"high\", \"better\", \"best\", \"said\", \"textile\", \"participation\", \"employee\", \"musical\", \"publications\", \"faculty\", \"forests\", \"recreation\", \"inventory\", \"interior\", \"fiscal\", \"producers\", \"imports\", \"creative\", \"designers\", \"maintain\", \"evaluation\", \"academic\", \"depreciation\", \"exceed\", \"coverage\", \"laboratories\", \"curriculum\", \"engineers\", \"expenditures\", \"comprehensive\", \"locations\", \"educated\", \"resources\", \"fishing\", \"rhode\", \"organizations\", \"vehicles\", \"india\", \"development\", \"projects\", \"library\", \"activities\", \"technical\", \"pool\", \"planning\", \"published\", \"import\", \"management\", \"site\", \"island\", \"plant\", \"medical\", \"bridge\", \"state\", \"research\", \"program\", \"industrial\", \"1960\", \"available\", \"corps\", \"system\", \"use\", \"production\", \"states\", \"period\", \"services\", \"important\", \"area\", \"interest\", \"national\", \"united\", \"work\", \"000\", \"service\", \"college\", \"water\", \"company\", \"government\", \"american\", \"business\", \"public\", \"high\", \"kennedy\", \"nuclear\", \"soviet\", \"khrushchev\", \"laos\", \"berlin\", \"congo\", \"republican\", \"moscow\", \"cuba\", \"weapons\", \"senate\", \"castro\", \"sen\", \"charter\", \"troops\", \"hughes\", \"premier\", \"communism\", \"democrats\", \"communists\", \"election\", \"aug\", \"welfare\", \"gen\", \"republicans\", \"katanga\", \"bombs\", \"police\", \"communist\", \"democratic\", \"rayburn\", \"georgia\", \"leader\", \"russia\", \"vote\", \"political\", \"jury\", \"president\", \"committee\", \"mr\", \"mayor\", \"county\", \"party\", \"council\", \"war\", \"mrs\", \"city\", \"meeting\", \"said\", \"east\", \"west\", \"yesterday\", \"nations\", \"000\", \"military\", \"administration\", \"school\", \"state\", \"american\", \"government\", \"public\", \"united\", \"people\", \"week\", \"world\", \"house\", \"states\", \"members\", \"john\", \"national\", \"program\", \"man\", \"home\", \"recommendation\", \"motors\", \"thereof\", \"boats\", \"shelter\", \"feed\", \"cattle\", \"interference\", \"chemical\", \"assessment\", \"catastrophe\", \"boat\", \"tangible\", \"engine\", \"stockholders\", \"conversion\", \"electricity\", \"claim\", \"property\", \"stations\", \"ratio\", \"accommodate\", \"farmers\", \"concrete\", \"battery\", \"pound\", \"blocks\", \"claims\", \"manufactured\", \"63\", \"loans\", \"officer\", \"credit\", \"trust\", \"shall\", \"farm\", \"respect\", \"laws\", \"general\", \"act\", \"business\", \"department\", \"stock\", \"hearing\", \"daily\", \"john\", \"small\", \"government\", \"local\", \"class\", \"board\", \"tax\", \"united\", \"court\", \"policy\", \"service\", \"states\", \"report\", \"head\", \"secretary\", \"pale\", \"smiled\", \"hadn\", \"hair\", \"listening\", \"shoes\", \"loved\", \"hell\", \"sick\", \"liked\", \"mother\", \"stared\", \"heel\", \"wondered\", \"smile\", \"tongue\", \"laughed\", \"handsome\", \"silent\", \"looked\", \"strange\", \"lips\", \"till\", \"dad\", \"dear\", \"fountain\", \"puerto\", \"rico\", \"susan\", \"nodded\", \"wasn\", \"couldn\", \"love\", \"sat\", \"didn\", \"eyes\", \"baby\", \"woman\", \"thought\", \"stood\", \"yes\", \"child\", \"wouldn\", \"knew\", \"alexander\", \"went\", \"father\", \"voice\", \"bed\", \"door\", \"felt\", \"girl\", \"got\", \"know\", \"god\", \"little\", \"said\", \"young\", \"came\", \"ll\", \"away\", \"old\", \"man\", \"boy\", \"come\", \"going\", \"don\", \"let\", \"thing\", \"good\", \"life\", \"way\", \"look\", \"day\", \"asked\", \"people\", \"think\", \"night\"], \"Freq\": [793.0, 274.0, 197.0, 90.0, 207.0, 301.0, 493.0, 334.0, 123.0, 91.0, 155.0, 202.0, 128.0, 165.0, 123.0, 176.0, 165.0, 138.0, 96.0, 298.0, 236.0, 173.0, 207.0, 127.0, 55.0, 175.0, 280.0, 251.0, 131.0, 106.0, 46.900617382795076, 38.32019195875089, 32.601476249193, 27.831525211454064, 25.929233675327943, 24.96565102185358, 21.16277883221047, 21.155429552015487, 19.25438978445484, 21.947937942988005, 18.280628736886936, 24.50491087556345, 15.442227275155332, 59.06823780924091, 15.42935027285937, 15.429775935704042, 38.0669247020191, 14.482031649232395, 35.29261204086962, 13.535621759504735, 53.26575195711283, 13.516253246233768, 12.582744451574854, 12.582358303937445, 12.58220617958516, 12.580083705056316, 12.579537857165423, 12.57734493448933, 12.576735754565972, 18.818378791886875, 48.981019776164054, 28.516446892422938, 34.18539770126025, 30.685701114865772, 20.296779363910186, 70.9271039122294, 76.42101603091834, 21.85935538465502, 24.06431749341121, 55.7525319508714, 55.41576812531198, 23.176638782391752, 32.95509315449188, 45.29595924457122, 32.17680895813646, 45.65789699624383, 44.088003270410304, 26.856071180115485, 30.029049163988443, 68.2441583715676, 61.47380111399646, 44.515827629215174, 45.179755849484174, 41.741827288632976, 61.560506185939296, 53.24851828557132, 99.24831428743175, 73.15486854806161, 49.90191872032154, 77.17424013092699, 71.06844436634603, 67.4544411843347, 54.795758071219076, 73.85743200897538, 66.50953757158301, 58.07101352684931, 68.45390871103884, 64.72256586429485, 48.05347075701606, 59.567487890086035, 57.07727059133217, 52.34860935735945, 52.823557510266184, 50.68205733687991, 49.369099019371255, 51.04430480221188, 28.30592572507239, 24.424933130164785, 24.416582541428475, 20.544465245197713, 19.577791969757897, 51.22952404642791, 15.703268535408943, 34.95910743832325, 16.499023102025852, 39.419613631490876, 105.71631917016953, 10.843150222887761, 10.843191961881873, 15.36603081390793, 10.837350150282674, 18.96634658538629, 8.909802874473485, 27.52900985489836, 8.858011680160265, 14.160264880449047, 12.377114435979713, 7.945091103923987, 7.944499146179813, 26.49844918764271, 24.60188727042822, 6.979551908378148, 6.977825659837779, 6.961783314860131, 35.520402490741894, 16.499841358692898, 77.51764253547499, 34.38058053559419, 38.77975209703742, 33.56659824328095, 171.06640326090906, 47.6058197977241, 40.70073357657623, 50.998797153143116, 50.77495370211013, 65.62205389309975, 69.98216493822918, 23.882312072832732, 22.226309066144598, 67.03066445066763, 43.608897498621225, 90.07056610828127, 63.127240535932934, 76.72074181207208, 42.11578377574355, 269.2874548085997, 75.01508583602298, 137.8342923463197, 58.362024780289, 85.25628829194997, 78.64673686400447, 55.994662475404546, 88.4943178458751, 132.01586015801303, 59.77628464526229, 153.870303464753, 66.51941709764549, 61.04438701228092, 68.15034258267058, 75.45918600648, 71.63562137761245, 89.85286077004871, 100.30627971606329, 89.75509366471242, 91.20163096512611, 79.78955096407307, 66.59945264744294, 70.9471119830798, 66.17064226428685, 76.07309911925185, 73.78709559466938, 70.73831575986387, 68.82940026130558, 67.1745433159304, 130.5579885784806, 78.28316230995772, 80.15534955730648, 72.42766617967, 49.97545822375614, 64.32886075217458, 43.14414848886354, 39.23921138129494, 37.28723205542033, 37.28516229185791, 33.381173530539755, 50.48186809847168, 29.478116066043466, 29.472070136194123, 27.524478420994253, 26.54656756146539, 24.598100241185133, 24.597463627420396, 28.366359331598446, 23.621534418463405, 23.621514707273178, 53.85156123257405, 22.634993277198735, 28.289427952000676, 21.667875350260534, 19.71722536869707, 19.715333295353958, 18.73929886285081, 44.956634171554036, 71.08883786921629, 58.672635649739796, 44.727317963526794, 41.01186311970621, 40.96117807002632, 42.75494355800704, 53.260048495564774, 77.66451404221996, 45.99694390738239, 256.68330871272116, 100.13108356008047, 299.5869369621228, 41.6677458301828, 89.54950650704204, 88.25087010038449, 63.2465031430096, 111.54997230255422, 196.81181942003548, 146.6433766566953, 77.42239713159195, 381.84361040741356, 75.45054972154942, 81.92645439054742, 54.33565818383021, 64.8707220197205, 157.17128924834782, 86.05398991963575, 90.41446202544756, 105.3411037374626, 200.51010750114847, 135.2672821274961, 136.36311808125154, 113.67484428167828, 143.13046428521685, 131.39357181060313, 102.30539146482394, 118.03946916863129, 110.80907382496757, 127.51280528548067, 85.81571642208262, 87.78699173276507, 90.85601777434394, 90.5817158324135, 91.80600480969765, 85.06904723383825, 17.178192154388842, 41.10660325194979, 10.842304100261606, 34.16341019761965, 51.609310092866764, 83.8713162928102, 16.961910390036408, 28.586241537892995, 21.559437024413384, 13.892065761848567, 4.315888104638071, 31.35339840756028, 10.914009441186582, 20.294080229061915, 14.366234414437265, 9.085753040663922, 8.384577507961799, 29.567935466297914, 63.9826716559257, 39.570851043849146, 13.310226929816219, 4.413536328938463, 11.812101414289872, 15.434840879722643, 8.54201531896571, 16.21443796584524, 13.141859292913457, 18.565904999623537, 5.376394928937688, 4.116116220725713, 18.870983705821352, 31.161953588731624, 23.43723953138883, 22.3243154196807, 62.114605055474726, 21.887162140461562, 25.334996433955784, 25.163041987260407, 68.32523030674926, 48.387853017327636, 65.54843990630201, 49.311286436946496, 31.930065536054666, 24.895635019269697, 25.299699763187572, 45.592371150113884, 50.87805430915165, 58.51478612185274, 39.127743885722744, 33.6996088541838, 42.05178208707614, 42.15988722908429, 51.06259229250563, 32.487661084421745, 30.139180521217096, 37.846989716115246, 43.129692710263214, 26.447916361014258, 27.32259171713398, 26.950204279622724, 26.22397208481552, 26.223125676036236, 30.80772071427709, 34.29585524073729, 18.509420935971917, 18.50660013197894, 17.546129234809698, 15.616621370254821, 15.61601178279132, 14.652382045426355, 91.65336955100089, 14.640724595512136, 14.616591009698478, 13.687751571357216, 13.684077201385556, 13.681568956662657, 12.722342624999989, 15.422502005302231, 11.760994549566396, 79.59653259438065, 15.325600615889112, 10.798802478098876, 10.795549117390275, 10.79056676812817, 10.790934402604204, 10.789337946981783, 18.78316578048188, 18.782934478517628, 25.066750015052257, 9.830940284581832, 53.62872441597585, 49.0654419165101, 55.0254657006044, 34.662685375571115, 110.38470093345859, 86.73179772095604, 32.36544188429684, 48.68000455264935, 115.39167767292906, 42.3938824453355, 35.80365335589419, 56.41316348295643, 36.297650116639055, 72.90742519564198, 22.67958197780209, 99.56843254895264, 50.257351293165385, 40.323913913242635, 30.457366445791575, 53.59719233693798, 66.88466514659389, 37.331796870817975, 97.3378695746267, 118.80837727344323, 48.24708939329567, 140.0064701171481, 351.1814087885002, 87.76999255278085, 100.05581404206993, 99.33034907589823, 79.03211438555668, 131.78047747147545, 140.1614815935644, 58.442756001484526, 102.08235138043327, 81.29417470698678, 95.25692500726012, 74.88672246223312, 64.23603254057312, 119.13152483850281, 82.15193418702756, 100.34242550525853, 70.9595313673356, 99.45093278293244, 68.27580654754773, 87.43700324028723, 69.72423847300385, 68.29549271581833], \"Total\": [793.0, 274.0, 197.0, 90.0, 207.0, 301.0, 493.0, 334.0, 123.0, 91.0, 155.0, 202.0, 128.0, 165.0, 123.0, 176.0, 165.0, 138.0, 96.0, 298.0, 236.0, 173.0, 207.0, 127.0, 55.0, 175.0, 280.0, 251.0, 131.0, 106.0, 47.664353006940736, 39.084492371229636, 33.36452797395766, 28.597992925746375, 26.691310763606364, 25.73814382775719, 21.924682233249246, 21.92481758103477, 20.01809687359507, 22.88088300320795, 19.065014116945694, 25.709666737501692, 16.204806079853487, 61.988572732105304, 16.20439451778149, 16.204890857285122, 40.05825609278072, 15.251554624872268, 37.19065702047357, 14.298157118147186, 56.281680094990584, 14.298523621335807, 13.344838599195484, 13.344843079876604, 13.344839526551354, 13.344862169537443, 13.344899633086342, 13.34493983300161, 13.344930852856589, 20.0284266190992, 52.39496639966852, 30.519591447218982, 37.209258085534756, 33.40360988757227, 21.934628832262835, 81.13903425209901, 88.77109117227324, 23.859328205313663, 26.714928402944274, 66.76963227458809, 67.14937119000082, 25.78098070413126, 39.087308583414696, 57.42506489349283, 38.23781272055414, 60.32370987759947, 59.391621967799324, 31.22397459161483, 36.354429713836105, 110.39094009275044, 97.00956488697165, 64.01392047945932, 66.04973567917794, 61.32170923668709, 117.88826919757676, 93.23398979469346, 264.66356215080435, 168.10523589933342, 87.3255500564, 211.53755012135645, 188.18760422508655, 175.54834026912005, 122.2007891407095, 273.0193860145692, 231.71600302131563, 165.25679830440555, 306.4727202482374, 259.6511321710866, 97.21507091062831, 305.4362298384924, 255.68608958646598, 160.697669506846, 219.23861867225742, 158.8651352095258, 138.31978127631666, 793.1980625140218, 29.06627783470183, 25.18821601278146, 25.187425430065545, 21.310435117003873, 20.34069916976694, 53.31198076178569, 16.463037130041428, 36.739509201689515, 17.41923690830376, 41.6443681234255, 112.4677165201485, 11.615241615072804, 11.615681174914744, 16.46535509565294, 11.61544419412029, 20.345024378932077, 9.676277631083915, 30.047459886281512, 9.676528342844204, 15.489464864639517, 13.55737846327804, 8.707277541875069, 8.707210774621512, 29.058477697581367, 27.139427910242315, 7.737949798815957, 7.737860506987812, 7.7378975527362925, 39.489065543769534, 18.395763377437383, 86.9392737665663, 38.53756413175123, 43.53651361214198, 37.81484319199799, 202.54345953668218, 54.28910391509681, 46.489141757787266, 58.87298783480318, 59.057039593125566, 78.44349545891602, 86.15500553198645, 27.14422776186406, 25.15254221181201, 85.44802420189791, 53.188983474870206, 120.6924336582737, 81.17637891156807, 102.74489704878329, 52.1658204818502, 493.62537576096986, 104.64650009037041, 234.15281293863563, 79.30368946288411, 130.85965117021215, 120.50229372173823, 76.67837338800331, 144.0348731815801, 255.68608958646598, 84.94096130626144, 334.60909347477906, 100.26523677017718, 95.46666258152939, 116.5456042543401, 146.63878947508476, 134.87934177696752, 215.76386447134655, 301.1143546521273, 259.6511321710866, 283.73773404804876, 204.71415487286393, 125.01374970261898, 162.35101162081656, 139.20063760686725, 274.29200396195176, 263.6274918132039, 207.05856226204006, 202.12176262528666, 219.23861867225742, 131.74744694320304, 79.0416917216721, 80.99298021478862, 73.18495123391347, 50.73405016321957, 65.35199596575505, 43.90119445536834, 39.99668095319408, 38.044422538977294, 38.04440829842817, 34.139894173383944, 51.705719037828636, 30.235427051212035, 30.234936155226094, 28.283157414718225, 27.307002651521735, 25.354806496723135, 25.354775130552326, 29.258280708044023, 24.378674890125254, 24.378670527073776, 55.59125568724582, 23.40173955469421, 29.257207622704733, 22.426402188945154, 20.474173695740895, 20.474115528689563, 19.498022721083377, 46.82195912250448, 74.1397878588391, 61.457501661240364, 46.813171618447946, 42.91715478224241, 42.896652005009926, 44.86776847478222, 56.46518088300297, 83.75605493543969, 48.75710006406642, 298.0049253740502, 111.16954463300402, 388.9490573137726, 44.816808509298184, 105.29405630331755, 108.991754055522, 73.93467892099105, 146.94695472971065, 305.4362298384924, 215.50738617088132, 98.07230972170902, 793.1980625140218, 95.30910098855246, 106.76662465986615, 62.315939205517644, 79.91343885868758, 283.73773404804876, 123.46464847790244, 133.1041149397706, 172.87352126817873, 493.62537576096986, 263.6274918132039, 274.29200396195176, 202.12176262528666, 301.1143546521273, 265.3833318338331, 188.83148033048107, 255.82115900738128, 231.71600302131563, 334.60909347477906, 141.93088414521418, 165.0858665121465, 215.76386447134655, 234.15281293863563, 280.60515491806694, 264.66356215080435, 17.961121314259366, 43.121946046537445, 11.7000756555144, 36.90569403096409, 55.845508123933584, 90.90616061720579, 19.908789728466104, 34.47677595534095, 26.335730556568727, 17.2820243611652, 5.455801077999392, 39.998919013714385, 14.622982316965327, 28.35111108716312, 20.167632226739737, 12.810231836101334, 11.911588284586049, 42.15346438822935, 91.75925342616218, 56.93288479393969, 19.252482229328173, 6.423512756744688, 17.469779612267224, 22.9594210244248, 12.803104188002468, 24.69680569696865, 20.13841839535738, 28.52211199555112, 8.276134489824837, 6.441695690297928, 30.456894083649793, 51.78874668622453, 38.81757716815529, 37.01753180641851, 123.83285098432759, 37.9822234666075, 46.37530083851881, 47.48340486956439, 197.37841645995573, 128.93242528505598, 207.05856226204006, 155.23741712836448, 75.70146992373189, 50.32454706527668, 52.307589223057796, 165.0858665121465, 207.43867271064553, 274.29200396195176, 127.82948794710157, 97.21507091062831, 173.06300374244157, 176.23689119465013, 301.1143546521273, 106.26131396540302, 92.75698836431357, 204.71415487286393, 334.60909347477906, 88.16202157990368, 132.73249417201146, 121.30035314519775, 26.985718850138333, 26.98574011303126, 31.804157090501352, 35.65690093636523, 19.271959939038833, 19.271928781912695, 18.30775648742036, 16.379241516888634, 16.3792161737249, 15.415029062860148, 96.45899309675677, 15.414880981580351, 15.41526481770947, 14.45071119066925, 14.450763884434101, 14.45086363233153, 13.486300190496237, 16.377042400438704, 12.522303359993165, 84.882696410411, 16.382867022120145, 11.558146294110992, 11.557949780159587, 11.557639126610667, 11.558162833175272, 11.558051587014765, 20.2240268999084, 20.224030361398196, 26.999578613815157, 10.593890181544444, 57.85865846732315, 53.03037228884846, 59.81156820696333, 37.611953138586635, 123.42688522657303, 97.39117995857619, 35.69498617915269, 54.95247669899156, 138.69837865089414, 48.257599882234345, 40.487324039246495, 66.60739113340799, 41.49620421779663, 89.5336415384979, 25.07303534911506, 135.9457805429061, 62.7820299463266, 49.245742711821435, 35.637088790505274, 69.45977814175701, 90.79523483151365, 45.38786301885672, 145.50569633380385, 189.70420918103287, 62.82940619342614, 236.30079058658137, 793.1980625140218, 135.2981497462788, 161.03398411558885, 165.25679830440555, 122.5461544870133, 251.92407677669956, 280.60515491806694, 81.83629935183654, 184.361898693637, 132.47185180074928, 175.54834026912005, 121.46569418607588, 95.39493602342321, 306.4727202482374, 161.43605560562384, 273.0193860145692, 129.09915082589362, 301.11340317079856, 117.84170377486382, 265.3833318338331, 132.8099695647968, 150.04996102402896], \"Category\": [\"Default\", \"Default\", \"Default\", \"Default\", \"Default\", \"Default\", \"Default\", \"Default\", \"Default\", \"Default\", \"Default\", \"Default\", \"Default\", \"Default\", \"Default\", \"Default\", \"Default\", \"Default\", \"Default\", \"Default\", \"Default\", \"Default\", \"Default\", \"Default\", \"Default\", \"Default\", \"Default\", \"Default\", \"Default\", \"Default\", \"Topic1\", \"Topic1\", \"Topic1\", \"Topic1\", \"Topic1\", \"Topic1\", \"Topic1\", \"Topic1\", \"Topic1\", \"Topic1\", \"Topic1\", \"Topic1\", \"Topic1\", \"Topic1\", \"Topic1\", \"Topic1\", \"Topic1\", \"Topic1\", \"Topic1\", \"Topic1\", \"Topic1\", \"Topic1\", \"Topic1\", \"Topic1\", \"Topic1\", \"Topic1\", \"Topic1\", \"Topic1\", \"Topic1\", \"Topic1\", \"Topic1\", \"Topic1\", \"Topic1\", \"Topic1\", \"Topic1\", \"Topic1\", \"Topic1\", \"Topic1\", \"Topic1\", \"Topic1\", \"Topic1\", \"Topic1\", \"Topic1\", \"Topic1\", \"Topic1\", \"Topic1\", \"Topic1\", \"Topic1\", \"Topic1\", \"Topic1\", \"Topic1\", \"Topic1\", \"Topic1\", \"Topic1\", \"Topic1\", \"Topic1\", \"Topic1\", \"Topic1\", \"Topic1\", \"Topic1\", \"Topic1\", \"Topic1\", \"Topic1\", \"Topic1\", \"Topic1\", \"Topic1\", \"Topic1\", \"Topic1\", \"Topic1\", \"Topic1\", \"Topic1\", \"Topic1\", \"Topic1\", \"Topic1\", \"Topic1\", \"Topic1\", \"Topic2\", \"Topic2\", \"Topic2\", \"Topic2\", \"Topic2\", \"Topic2\", \"Topic2\", \"Topic2\", \"Topic2\", \"Topic2\", \"Topic2\", \"Topic2\", \"Topic2\", \"Topic2\", \"Topic2\", \"Topic2\", \"Topic2\", \"Topic2\", \"Topic2\", \"Topic2\", \"Topic2\", \"Topic2\", \"Topic2\", \"Topic2\", \"Topic2\", \"Topic2\", \"Topic2\", \"Topic2\", \"Topic2\", \"Topic2\", \"Topic2\", \"Topic2\", \"Topic2\", \"Topic2\", \"Topic2\", \"Topic2\", \"Topic2\", \"Topic2\", \"Topic2\", \"Topic2\", \"Topic2\", \"Topic2\", \"Topic2\", \"Topic2\", \"Topic2\", \"Topic2\", \"Topic2\", \"Topic2\", \"Topic2\", \"Topic2\", \"Topic2\", \"Topic2\", \"Topic2\", \"Topic2\", \"Topic2\", \"Topic2\", \"Topic2\", \"Topic2\", \"Topic2\", \"Topic2\", \"Topic2\", \"Topic2\", \"Topic2\", \"Topic2\", \"Topic2\", \"Topic2\", \"Topic2\", \"Topic2\", \"Topic2\", \"Topic2\", \"Topic2\", \"Topic2\", \"Topic2\", \"Topic2\", \"Topic2\", \"Topic2\", \"Topic2\", \"Topic2\", \"Topic3\", \"Topic3\", \"Topic3\", \"Topic3\", \"Topic3\", \"Topic3\", \"Topic3\", \"Topic3\", \"Topic3\", \"Topic3\", \"Topic3\", \"Topic3\", \"Topic3\", \"Topic3\", \"Topic3\", \"Topic3\", \"Topic3\", \"Topic3\", \"Topic3\", \"Topic3\", \"Topic3\", \"Topic3\", \"Topic3\", \"Topic3\", \"Topic3\", \"Topic3\", \"Topic3\", \"Topic3\", \"Topic3\", \"Topic3\", \"Topic3\", \"Topic3\", \"Topic3\", \"Topic3\", \"Topic3\", \"Topic3\", \"Topic3\", \"Topic3\", \"Topic3\", \"Topic3\", \"Topic3\", \"Topic3\", \"Topic3\", \"Topic3\", \"Topic3\", \"Topic3\", \"Topic3\", \"Topic3\", \"Topic3\", \"Topic3\", \"Topic3\", \"Topic3\", \"Topic3\", \"Topic3\", \"Topic3\", \"Topic3\", \"Topic3\", \"Topic3\", \"Topic3\", \"Topic3\", \"Topic3\", \"Topic3\", \"Topic3\", \"Topic3\", \"Topic3\", \"Topic3\", \"Topic3\", \"Topic3\", \"Topic3\", \"Topic3\", \"Topic3\", \"Topic3\", \"Topic3\", \"Topic3\", \"Topic4\", \"Topic4\", \"Topic4\", \"Topic4\", \"Topic4\", \"Topic4\", \"Topic4\", \"Topic4\", \"Topic4\", \"Topic4\", \"Topic4\", \"Topic4\", \"Topic4\", \"Topic4\", \"Topic4\", \"Topic4\", \"Topic4\", \"Topic4\", \"Topic4\", \"Topic4\", \"Topic4\", \"Topic4\", \"Topic4\", \"Topic4\", \"Topic4\", \"Topic4\", \"Topic4\", \"Topic4\", \"Topic4\", \"Topic4\", \"Topic4\", \"Topic4\", \"Topic4\", \"Topic4\", \"Topic4\", \"Topic4\", \"Topic4\", \"Topic4\", \"Topic4\", \"Topic4\", \"Topic4\", \"Topic4\", \"Topic4\", \"Topic4\", \"Topic4\", \"Topic4\", \"Topic4\", \"Topic4\", \"Topic4\", \"Topic4\", \"Topic4\", \"Topic4\", \"Topic4\", \"Topic4\", \"Topic4\", \"Topic4\", \"Topic4\", \"Topic4\", \"Topic4\", \"Topic4\", \"Topic5\", \"Topic5\", \"Topic5\", \"Topic5\", \"Topic5\", \"Topic5\", \"Topic5\", \"Topic5\", \"Topic5\", \"Topic5\", \"Topic5\", \"Topic5\", \"Topic5\", \"Topic5\", \"Topic5\", \"Topic5\", \"Topic5\", \"Topic5\", \"Topic5\", \"Topic5\", \"Topic5\", \"Topic5\", \"Topic5\", \"Topic5\", \"Topic5\", \"Topic5\", \"Topic5\", \"Topic5\", \"Topic5\", \"Topic5\", \"Topic5\", \"Topic5\", \"Topic5\", \"Topic5\", \"Topic5\", \"Topic5\", \"Topic5\", \"Topic5\", \"Topic5\", \"Topic5\", \"Topic5\", \"Topic5\", \"Topic5\", \"Topic5\", \"Topic5\", \"Topic5\", \"Topic5\", \"Topic5\", \"Topic5\", \"Topic5\", \"Topic5\", \"Topic5\", \"Topic5\", \"Topic5\", \"Topic5\", \"Topic5\", \"Topic5\", \"Topic5\", \"Topic5\", \"Topic5\", \"Topic5\", \"Topic5\", \"Topic5\", \"Topic5\", \"Topic5\", \"Topic5\", \"Topic5\", \"Topic5\", \"Topic5\", \"Topic5\", \"Topic5\", \"Topic5\", \"Topic5\", \"Topic5\", \"Topic5\", \"Topic5\", \"Topic5\", \"Topic5\"], \"logprob\": [30.0, 29.0, 28.0, 27.0, 26.0, 25.0, 24.0, 23.0, 22.0, 21.0, 20.0, 19.0, 18.0, 17.0, 16.0, 15.0, 14.0, 13.0, 12.0, 11.0, 10.0, 9.0, 8.0, 7.0, 6.0, 5.0, 4.0, 3.0, 2.0, 1.0, -6.1393, -6.3414, -6.503, -6.6612, -6.732, -6.7699, -6.9351, -6.9355, -7.0296, -6.8987, -7.0815, -6.7885, -7.2503, -5.9087, -7.2511, -7.2511, -6.348, -7.3145, -6.4237, -7.382, -6.0121, -7.3835, -7.455, -7.4551, -7.4551, -7.4553, -7.4553, -7.4555, -7.4555, -7.0525, -6.0959, -6.6369, -6.4556, -6.5636, -6.9769, -5.7257, -5.6511, -6.9027, -6.8066, -5.9665, -5.9725, -6.8442, -6.4922, -6.1742, -6.5161, -6.1662, -6.2012, -6.6969, -6.5852, -5.7643, -5.8688, -6.1915, -6.1767, -6.2559, -5.8674, -6.0124, -5.3897, -5.6948, -6.0773, -5.6413, -5.7237, -5.7759, -5.9838, -5.6852, -5.79, -5.9257, -5.7612, -5.8173, -6.1151, -5.9003, -5.943, -6.0294, -6.0204, -6.0618, -6.088, -6.0547, -6.9734, -7.1208, -7.1212, -7.2938, -7.342, -6.3801, -7.5626, -6.7623, -7.5131, -6.6422, -5.6557, -7.9329, -7.9329, -7.5843, -7.9334, -7.3738, -8.1293, -7.0012, -8.1351, -7.666, -7.8006, -8.2439, -8.244, -7.0394, -7.1136, -8.3735, -8.3737, -8.376, -6.7463, -7.5131, -5.9659, -6.7789, -6.6585, -6.8029, -5.1744, -6.4535, -6.6102, -6.3846, -6.389, -6.1325, -6.0682, -7.1433, -7.2152, -6.1113, -6.5412, -5.8158, -6.1713, -5.9763, -6.576, -4.7207, -5.9987, -5.3904, -6.2498, -5.8708, -5.9515, -6.2912, -5.8335, -5.4335, -6.2258, -5.2803, -6.1189, -6.2048, -6.0947, -5.9928, -6.0448, -5.8183, -5.7082, -5.8194, -5.8034, -5.937, -6.1177, -6.0545, -6.1242, -5.9847, -6.0153, -6.0575, -6.0848, -6.1091, -5.7478, -6.2592, -6.2356, -6.337, -6.708, -6.4556, -6.855, -6.9499, -7.0009, -7.001, -7.1116, -6.698, -7.2359, -7.2361, -7.3045, -7.3407, -7.4169, -7.4169, -7.2744, -7.4574, -7.4574, -6.6333, -7.5001, -7.2771, -7.5437, -7.6381, -7.6382, -7.6889, -6.8139, -6.3556, -6.5476, -6.819, -6.9057, -6.9069, -6.8641, -6.6444, -6.2672, -6.791, -5.0717, -6.0131, -4.9172, -6.8898, -6.1248, -6.1394, -6.4725, -5.9051, -5.3373, -5.6316, -6.2703, -4.6746, -6.2961, -6.2137, -6.6244, -6.4472, -5.5622, -6.1646, -6.1152, -5.9624, -5.3187, -5.7123, -5.7043, -5.8862, -5.6558, -5.7414, -5.9916, -5.8486, -5.9118, -5.7714, -6.1674, -6.1447, -6.1103, -6.1133, -6.0999, -6.1761, -6.2955, -5.423, -6.7557, -5.608, -5.1954, -4.7098, -6.3082, -5.7862, -6.0683, -6.5078, -7.6768, -5.6938, -6.7491, -6.1288, -6.4743, -6.9324, -7.0127, -5.7524, -4.9805, -5.461, -6.5506, -7.6545, -6.67, -6.4025, -6.9941, -6.3532, -6.5633, -6.2178, -7.4571, -7.7242, -6.2015, -5.6999, -5.9848, -6.0335, -5.0102, -6.0532, -5.9069, -5.9138, -4.9149, -5.2599, -4.9563, -5.241, -5.6756, -5.9244, -5.9083, -5.3194, -5.2097, -5.0699, -5.4723, -5.6216, -5.4002, -5.3977, -5.2061, -5.6583, -5.7333, -5.5056, -5.3749, -5.864, -5.8314, -5.8451, -6.7522, -6.7522, -6.5911, -6.4838, -7.1006, -7.1007, -7.154, -7.2705, -7.2706, -7.3343, -5.5008, -7.335, -7.3367, -7.4024, -7.4026, -7.4028, -7.4755, -7.283, -7.5541, -5.6419, -7.2893, -7.6394, -7.6397, -7.6402, -7.6401, -7.6403, -7.0859, -7.0859, -6.7973, -7.7333, -6.0368, -6.1257, -6.0111, -6.4732, -5.3149, -5.556, -6.5418, -6.1336, -5.2705, -6.2718, -6.4408, -5.9862, -6.4271, -5.7297, -6.8974, -5.418, -6.1017, -6.3219, -6.6025, -6.0374, -5.8159, -6.399, -5.4407, -5.2413, -6.1425, -5.0772, -4.1576, -5.5441, -5.4131, -5.4204, -5.649, -5.1377, -5.0761, -5.9508, -5.3931, -5.6208, -5.4623, -5.7029, -5.8563, -5.2386, -5.6103, -5.4103, -5.7567, -5.4192, -5.7953, -5.5479, -5.7743, -5.795], \"loglift\": [30.0, 29.0, 28.0, 27.0, 26.0, 25.0, 24.0, 23.0, 22.0, 21.0, 20.0, 19.0, 18.0, 17.0, 16.0, 15.0, 14.0, 13.0, 12.0, 11.0, 10.0, 9.0, 8.0, 7.0, 6.0, 5.0, 4.0, 3.0, 2.0, 1.0, 1.7298, 1.7262, 1.7229, 1.7188, 1.717, 1.7155, 1.7106, 1.7103, 1.7071, 1.7044, 1.704, 1.698, 1.6978, 1.6977, 1.697, 1.697, 1.695, 1.6942, 1.6936, 1.6912, 1.6909, 1.6897, 1.6872, 1.6872, 1.6871, 1.687, 1.6869, 1.6867, 1.6867, 1.6837, 1.6786, 1.6781, 1.6612, 1.6611, 1.6684, 1.6115, 1.5962, 1.6584, 1.6415, 1.5657, 1.5539, 1.6395, 1.5753, 1.5087, 1.5734, 1.4674, 1.448, 1.5953, 1.5548, 1.2651, 1.2898, 1.3827, 1.3662, 1.3614, 1.0963, 1.1858, 0.7652, 0.914, 1.1864, 0.7376, 0.7722, 0.7895, 0.9439, 0.4386, 0.4978, 0.7002, 0.247, 0.3568, 1.0414, 0.1114, 0.2464, 0.6244, 0.3228, 0.6035, 0.7157, -0.9974, 1.3904, 1.3862, 1.3858, 1.3803, 1.3787, 1.3771, 1.3697, 1.3672, 1.3626, 1.362, 1.355, 1.3481, 1.3481, 1.3478, 1.3476, 1.3468, 1.3344, 1.3294, 1.3285, 1.3272, 1.3258, 1.3253, 1.3253, 1.3247, 1.3188, 1.3138, 1.3135, 1.3112, 1.311, 1.3082, 1.3022, 1.3028, 1.3012, 1.2978, 1.248, 1.2856, 1.2839, 1.2733, 1.2658, 1.2385, 1.209, 1.2889, 1.2932, 1.1742, 1.2183, 1.1243, 1.1655, 1.1248, 1.2029, 0.8109, 1.084, 0.887, 1.1103, 0.9885, 0.9902, 1.1026, 0.9298, 0.7559, 1.0656, 0.6401, 1.0066, 0.9697, 0.8804, 0.7525, 0.7841, 0.5409, 0.3177, 0.3547, 0.2819, 0.4747, 0.7872, 0.5891, 0.6732, 0.1344, 0.1436, 0.3429, 0.3397, 0.2341, 1.1047, 1.1041, 1.1034, 1.1034, 1.0987, 1.098, 1.0964, 1.0947, 1.0937, 1.0936, 1.0913, 1.0898, 1.0884, 1.0882, 1.0866, 1.0855, 1.0835, 1.0835, 1.0828, 1.0822, 1.0822, 1.082, 1.0805, 1.0802, 1.0794, 1.0761, 1.076, 1.0741, 1.0731, 1.0718, 1.0674, 1.0682, 1.0684, 1.0676, 1.0656, 1.0554, 1.0383, 1.0555, 0.9645, 1.0092, 0.8527, 1.0409, 0.9518, 0.9027, 0.9576, 0.8382, 0.6743, 0.7288, 0.8774, 0.3827, 0.8801, 0.849, 0.9768, 0.9052, 0.5231, 0.7528, 0.7271, 0.6184, 0.2129, 0.4465, 0.4149, 0.5383, 0.3701, 0.4108, 0.5009, 0.3403, 0.3761, 0.149, 0.6107, 0.4822, 0.2489, 0.1641, -0.0035, -0.0212, 2.5497, 2.5464, 2.5181, 2.517, 2.5153, 2.5137, 2.434, 2.4069, 2.3941, 2.3759, 2.3599, 2.3507, 2.3017, 2.2599, 2.255, 2.2507, 2.2431, 2.2396, 2.2337, 2.2304, 2.2251, 2.2189, 2.2029, 2.1971, 2.1895, 2.1735, 2.1674, 2.1649, 2.1629, 2.1463, 2.1155, 2.0863, 2.0897, 2.0885, 1.9043, 2.043, 1.9896, 1.9592, 1.5334, 1.6142, 1.444, 1.4474, 1.731, 1.8904, 1.8679, 1.3075, 1.1888, 1.0493, 1.4104, 1.5348, 1.1795, 1.1639, 0.8198, 1.4092, 1.4701, 0.9062, 0.5455, 1.3902, 1.0136, 1.0899, 1.6859, 1.6858, 1.6827, 1.6756, 1.6741, 1.674, 1.672, 1.6668, 1.6668, 1.6638, 1.6634, 1.663, 1.6613, 1.6603, 1.66, 1.6598, 1.6562, 1.6545, 1.6518, 1.6502, 1.6478, 1.6466, 1.6463, 1.6458, 1.6458, 1.6457, 1.6406, 1.6406, 1.6402, 1.6398, 1.6386, 1.6368, 1.6311, 1.6328, 1.6028, 1.5986, 1.6166, 1.5933, 1.5305, 1.585, 1.5916, 1.5484, 1.5807, 1.5091, 1.6142, 1.4031, 1.492, 1.5146, 1.5574, 1.4553, 1.4089, 1.5191, 1.3125, 1.2466, 1.4504, 1.1911, 0.8997, 1.2817, 1.2386, 1.2055, 1.2759, 1.0665, 1.0204, 1.3778, 1.1234, 1.2262, 1.1032, 1.2309, 1.319, 0.7696, 1.039, 0.7136, 1.116, 0.6067, 1.1687, 0.6043, 1.0701, 0.9274]}, \"token.table\": {\"Topic\": [1, 2, 3, 4, 5, 1, 2, 3, 2, 4, 2, 3, 3, 4, 2, 3, 4, 5, 2, 3, 4, 2, 3, 4, 3, 5, 1, 1, 2, 3, 4, 5, 1, 2, 3, 4, 5, 1, 2, 3, 4, 5, 3, 4, 3, 1, 2, 3, 4, 5, 1, 2, 3, 5, 3, 5, 1, 5, 1, 1, 1, 4, 1, 3, 5, 3, 1, 2, 3, 4, 5, 1, 2, 3, 4, 5, 1, 3, 4, 1, 2, 3, 4, 5, 1, 2, 4, 5, 3, 4, 5, 1, 3, 3, 1, 3, 5, 1, 2, 1, 2, 3, 4, 5, 1, 2, 3, 5, 3, 2, 4, 2, 4, 5, 1, 2, 3, 5, 1, 3, 2, 3, 4, 1, 3, 1, 2, 3, 5, 1, 2, 3, 4, 5, 3, 4, 5, 2, 3, 4, 5, 1, 2, 3, 4, 5, 1, 3, 4, 5, 1, 2, 3, 5, 1, 1, 2, 3, 4, 5, 1, 2, 3, 4, 5, 1, 2, 3, 3, 2, 3, 5, 3, 1, 2, 3, 4, 5, 2, 3, 4, 5, 3, 1, 3, 4, 1, 2, 5, 1, 2, 3, 1, 3, 5, 1, 2, 3, 4, 2, 3, 1, 3, 4, 5, 2, 3, 2, 3, 2, 3, 4, 5, 3, 2, 1, 2, 3, 5, 5, 2, 3, 4, 1, 2, 3, 4, 5, 5, 2, 3, 3, 1, 2, 3, 4, 2, 2, 1, 2, 3, 4, 1, 2, 3, 5, 1, 2, 3, 4, 5, 1, 2, 3, 5, 1, 2, 3, 1, 2, 3, 4, 2, 1, 3, 2, 3, 4, 2, 1, 2, 3, 4, 5, 1, 2, 3, 2, 2, 5, 2, 3, 1, 2, 3, 5, 2, 3, 1, 3, 4, 5, 3, 4, 2, 3, 5, 1, 1, 4, 5, 2, 3, 4, 5, 1, 4, 2, 3, 2, 5, 1, 3, 2, 5, 1, 3, 5, 1, 1, 2, 3, 4, 5, 1, 5, 3, 1, 2, 3, 4, 5, 2, 3, 2, 3, 5, 3, 5, 1, 2, 3, 5, 1, 2, 1, 2, 3, 4, 5, 1, 3, 5, 2, 3, 4, 5, 1, 3, 5, 5, 1, 5, 5, 1, 2, 3, 4, 5, 3, 4, 5, 5, 5, 1, 2, 3, 4, 5, 1, 3, 5, 1, 1, 5, 1, 1, 2, 3, 4, 5, 1, 1, 2, 3, 4, 5, 3, 1, 2, 1, 2, 3, 4, 5, 2, 1, 2, 4, 2, 3, 1, 2, 3, 4, 1, 2, 3, 4, 5, 1, 3, 4, 1, 2, 2, 1, 2, 3, 4, 5, 1, 2, 3, 4, 5, 1, 2, 3, 4, 3, 5, 3, 2, 3, 3, 1, 3, 4, 5, 1, 2, 3, 4, 5, 2, 3, 5, 2, 3, 4, 1, 3, 1, 2, 3, 5, 1, 2, 3, 4, 5, 1, 1, 2, 3, 4, 5, 2, 5, 1, 2, 3, 4, 5, 5, 5, 5, 1, 2, 3, 4, 5, 1, 2, 3, 5, 2, 3, 4, 1, 2, 3, 4, 2, 1, 2, 3, 4, 5, 1, 3, 5, 2, 3, 5, 5, 2, 3, 1, 2, 3, 5, 1, 2, 3, 4, 2, 4, 1, 3, 1, 2, 3, 4, 1, 2, 3, 4, 5, 1, 2, 3, 5, 1, 2, 3, 4, 3, 3, 5, 2, 4, 1, 2, 3, 4, 5, 1, 3, 5, 2, 1, 2, 3, 4, 5, 2, 3, 1, 3, 4, 5, 5, 3, 2, 3, 4, 5, 1, 2, 3, 5, 2, 3, 4, 1, 1, 5, 1, 2, 1, 3, 5, 1, 2, 3, 4, 5, 1, 2, 3, 4, 5, 1, 2, 3, 1, 2, 4, 1, 1, 1, 1, 2, 3, 4, 5, 2, 3, 4, 1, 2, 3, 4, 5, 1, 4, 1, 2, 3, 4, 5, 1, 1, 2, 4, 5, 2, 3, 1, 2, 3, 4, 2, 3, 4, 2, 5, 1, 4, 3, 1, 2, 3, 4, 5, 2, 1, 2, 3, 4, 1, 2, 3, 1, 2, 3, 2, 3, 4, 5, 1, 2, 3, 4, 2, 2, 3, 2, 5, 2, 4, 3, 5, 4, 2, 4, 1, 2, 3, 4, 5, 3, 3, 1, 2, 3, 4, 2, 4, 1, 2, 3, 4, 5, 2, 3, 4, 5, 2, 5, 1, 2, 3, 4, 5, 1, 5, 1, 2, 3, 4, 5, 1, 2, 2, 3, 1, 1, 2, 3, 4, 5, 2, 3, 5, 1, 2, 3, 5, 1, 2, 4, 1, 2, 3, 4, 5, 2, 3, 4, 5, 3, 2, 3, 1, 2, 3, 4, 5, 2, 3, 4, 5, 1, 2, 3, 4, 5, 1, 2, 3, 4, 5, 3, 4, 5, 5, 1, 3, 5, 1, 2, 3, 1, 2, 3, 4, 5, 5, 5, 3, 1, 5, 1, 2, 3, 4, 5, 2, 3, 4, 5, 3, 4, 1, 2, 3, 4, 5, 3, 4, 3, 5, 5, 3, 5, 1, 2, 3, 4, 5, 3, 4, 2, 3, 4, 5, 1, 2, 2, 3, 4, 2, 4, 1, 2, 3, 4, 5, 1, 2, 3, 4, 5, 1, 2, 3, 4, 5, 5, 5, 3, 3, 4, 2, 3, 4, 5, 1, 2, 3, 4, 5, 1, 2, 3, 4, 1, 2, 3, 5, 2, 3, 4, 2, 3, 4, 5, 1, 3, 5, 1, 2, 3, 4, 5, 1, 2, 3, 4, 5, 3, 1, 2, 3, 5, 3, 1, 3, 5, 1, 2, 3, 4, 5, 1, 1, 2, 3, 5, 1, 2, 3, 5, 5, 1, 2, 3, 4, 5, 1, 2, 3, 4, 5, 2, 3, 5, 1, 1, 1, 3, 5, 1, 3, 5, 1, 2, 3, 5], \"Freq\": [0.0810607728195402, 0.3207187098512243, 0.5533278840290353, 0.04229257712323837, 0.003524381426936531, 0.09934307392498397, 0.649550867971049, 0.24453679735380668, 0.3104772557033814, 0.6209545114067628, 0.9318591357129559, 0.0665613668366397, 0.1556780593219808, 0.6227122372879232, 0.4110680450074727, 0.17838801953154473, 0.3722880407614847, 0.03878000424598799, 0.8662716446990141, 0.06794287409404032, 0.05095715557053024, 0.20284872494150505, 0.6761624164716835, 0.12020665181718819, 0.07976696766674439, 0.9173201281675605, 0.9741520128739296, 0.11379693291341869, 0.28069910118643276, 0.5120861981103841, 0.015172924388455826, 0.07586462194227912, 0.09547269211724313, 0.5114608506280882, 0.30687651037685293, 0.061375302075370584, 0.013638956016749018, 0.0424298006548894, 0.01697192026195576, 0.3394384052391152, 0.025457880392933643, 0.5770452889064959, 0.17359077485976487, 0.8100902826789028, 0.9828329191616174, 0.11618036111684772, 0.6555891805879265, 0.0829859722263198, 0.14937475000737566, 0.00829859722263198, 0.13872324326424748, 0.016320381560499704, 0.19584457872599645, 0.6446550716397383, 0.0840454170494152, 0.8964844485270955, 0.9517883280678044, 0.03226401112094252, 0.9722526172035449, 0.9741576821733936, 0.31242423253481916, 0.7029545232033431, 0.11224261396642794, 0.028060653491606986, 0.8418196047482096, 0.9793120937505335, 0.35425157231932275, 0.18074059812210347, 0.21688871774652416, 0.04337774354930483, 0.20242946989675586, 0.32102701409429174, 0.19513406739064793, 0.1510715360443726, 0.012589294670364383, 0.32102701409429174, 0.29793799504052476, 0.04965633250675413, 0.6455323225878037, 0.15601254696920866, 0.11556484960682123, 0.47959412586830813, 0.24268618417432458, 0.011556484960682123, 0.07500202690406192, 0.07500202690406192, 0.7750209446753065, 0.07500202690406192, 0.027096089810992152, 0.9212670535737332, 0.054192179621984304, 0.9220712255888422, 0.04191232843585647, 0.9744577833246209, 0.20773177837517273, 0.07331709825006096, 0.7087319497505893, 0.17252676018258598, 0.8051248808520678, 0.014488654645459153, 0.3428981599425333, 0.24147757742431922, 0.31875040220010137, 0.08693192787275492, 0.16766647206976898, 0.062098693359173694, 0.14903686406201688, 0.620986933591737, 0.9591397518837919, 0.18329114014668102, 0.7331645605867241, 0.050229070357309266, 0.8538941960742575, 0.050229070357309266, 0.5684622112247798, 0.12870842518296902, 0.23596544616877654, 0.06435421259148451, 0.9441377745427909, 0.9899884793424487, 0.0759424537589353, 0.0759424537589353, 0.8353669913482883, 0.9486516520414795, 0.049929034317972604, 0.015013348863898593, 0.030026697727797185, 0.10509344204729015, 0.8407475363783212, 0.13456615346355302, 0.11136509252156113, 0.6821111916945619, 0.00928042437679676, 0.06496297063757732, 0.16605989807932922, 0.7116852774828395, 0.1423370554965679, 0.14024206905238715, 0.14024206905238715, 0.6661498279988389, 0.07012103452619357, 0.4937506042054665, 0.020572941841894437, 0.061718825525683314, 0.34974001131220545, 0.07200529644663053, 0.8750412258963174, 0.08627167015879185, 0.012324524308398836, 0.012324524308398836, 0.6159925800329847, 0.13588071618374664, 0.17211557383274573, 0.06341100088574843, 0.9615013545113427, 0.04799472069490531, 0.535941047759776, 0.2639709638219792, 0.007999120115817552, 0.14398416208471593, 0.11933051327790052, 0.06508937087885483, 0.24408514079570562, 0.010848228479809138, 0.5532596524702661, 0.008995269372571666, 0.08995269372571667, 0.8995269372571667, 0.9569940311736062, 0.013488034277950499, 0.9576504337344854, 0.013488034277950499, 0.9844671379165962, 0.028735500560686127, 0.47413575925132107, 0.31609050616754736, 0.1364936276632591, 0.05028712598120072, 0.9046323873891149, 0.1742204211397448, 0.6533265792740431, 0.13066531585480862, 0.9794722110286879, 0.07806259970891674, 0.15612519941783348, 0.7025633973802508, 0.9137510864054995, 0.026875031953102927, 0.026875031953102927, 0.01304148687322643, 0.7303232649006801, 0.2477882505913022, 0.018857118229401643, 0.037714236458803285, 0.9239987932406805, 0.027050905328705948, 0.09467816865047081, 0.8521035178542373, 0.027050905328705948, 0.14245818355396941, 0.8547491013238164, 0.0376430504266335, 0.6305210946461111, 0.301144403413068, 0.02823228781997512, 0.8851268726106299, 0.0737605727175525, 0.9110037355926924, 0.06073358237284616, 0.1545691523715759, 0.20609220316210117, 0.5925150840910409, 0.025761525395262646, 0.972547652989222, 0.918778723413612, 0.6288039748562183, 0.051541309414444125, 0.26801480895510943, 0.051541309414444125, 0.9517514675357235, 0.17205916261253912, 0.34411832522507824, 0.4779421183681642, 0.12619830137034954, 0.21586551550191369, 0.2623596265330951, 0.06642015861597345, 0.3287797851490685, 0.9517083431656471, 0.03254281326019713, 0.9600129911758153, 0.9844669617265113, 0.006441745930190971, 0.3349707883699305, 0.3414125343001215, 0.31564555057935756, 0.9300856341371131, 0.9470150100301953, 0.034560484036426004, 0.8442632528898352, 0.11355587611968543, 0.004937212005203714, 0.040509812678344505, 0.0081019625356689, 0.0486117752140134, 0.891215878923579, 0.3816612557959096, 0.02848218326835146, 0.02848218326835146, 0.017089309961010875, 0.5411614820986778, 0.07198410553220813, 0.0575872844257665, 0.10077774774509138, 0.7774283397478478, 0.9280434092104959, 0.02993688416808051, 0.02993688416808051, 0.07344524213737749, 0.11541395193016463, 0.7869133086147588, 0.010492177448196785, 0.9046384954430735, 0.017988440585439552, 0.9713757916137358, 0.16790372133563916, 0.08395186066781958, 0.6716148853425566, 0.952856419034867, 0.03527198623452829, 0.07054397246905658, 0.07054397246905658, 0.7054397246905658, 0.07054397246905658, 0.034413365022326455, 0.8947474905804879, 0.034413365022326455, 0.9301097325988816, 0.9038401340746266, 0.06456000957675904, 0.921169012209174, 0.07369352097673391, 0.041071481028377904, 0.010267870257094476, 0.05133935128547237, 0.8933047123672193, 0.9566329982726335, 0.03751501954010327, 0.026328105854023034, 0.3159372702482764, 0.5792183287885068, 0.05265621170804607, 0.2862085333056529, 0.686900479933567, 0.03185624933933855, 0.15928124669669275, 0.7964062334834638, 0.9256464688410136, 0.022000709153494495, 0.9240297844467688, 0.055001772883736234, 0.055068969305254505, 0.1982482894989162, 0.011013793861050902, 0.7379241886904103, 0.8647201502415655, 0.12810668892467636, 0.9424926839428645, 0.053348642487331954, 0.8697654819600574, 0.05436034262250359, 0.8921305307952997, 0.07757656789524345, 0.9718741368081781, 0.9517175033513673, 0.8368679514662433, 0.10460849393328041, 0.052304246966640204, 0.9578186875390585, 0.856134570346904, 0.05632464278598053, 0.02252985711439221, 0.011264928557196106, 0.04505971422878442, 0.950209312275789, 0.03276583835433755, 0.9809865985032881, 0.03546487060514119, 0.18239076311215469, 0.42051203717524555, 0.3445158858785144, 0.015199230259346224, 0.023300705861651488, 0.955328940327711, 0.02203232171526874, 0.1542262520068812, 0.8151959034649434, 0.22282559788802883, 0.7639734784732417, 0.052841414269113485, 0.052841414269113485, 0.27175584481258364, 0.6114506508283132, 0.8983741089627978, 0.07486450908023315, 0.2218794545397751, 0.2153535882297817, 0.15988372459483793, 0.01305173261998677, 0.3882890454446064, 0.19243232880563896, 0.13745166343259926, 0.6666405676481064, 0.27707697965027916, 0.4958219635847101, 0.2150992342021904, 0.010937249196721547, 0.684912415567056, 0.13045950772705828, 0.17938182312470513, 0.9747153465437535, 0.028045062070442998, 0.9535321103950619, 0.9159162950935624, 0.26368825673269275, 0.030135800769450598, 0.14314505365489036, 0.20341665519379154, 0.35409565904104456, 0.2980652757896318, 0.49677545964938635, 0.19871018385975453, 0.9730614541741506, 0.976846210094796, 0.24174573038717403, 0.30560309313095585, 0.30560309313095585, 0.013683720587953247, 0.13227596568354805, 0.7836299372662827, 0.13931198884733914, 0.05224199581775218, 0.9256513114741093, 0.9410965765066315, 0.026888473614475186, 0.9578246004474835, 0.37405980330450683, 0.06801087332809215, 0.3211624573826574, 0.02267029110936405, 0.21158938368739783, 0.9741549473904454, 0.28914705556109843, 0.012946883084825302, 0.4790346741385362, 0.01726251077976707, 0.20715012935720484, 0.9860063417652589, 0.07951482530703279, 0.8746630783773607, 0.1372853150693083, 0.5834625890445603, 0.20592797260396245, 0.06864265753465415, 0.008580332191831769, 0.9469956892201578, 0.8190694719147277, 0.029784344433262826, 0.13402954994968272, 0.8991178365429465, 0.10577856900505253, 0.012609753805565657, 0.7313657207228081, 0.20175606088905051, 0.03782926141669697, 0.007414033808480251, 0.533810434210578, 0.19276487902048653, 0.17052277759504578, 0.09638243951024326, 0.02900503229464777, 0.11602012917859109, 0.8411459365447854, 0.048025701676452474, 0.9365011826908232, 0.9185247370034213, 0.04142761769272883, 0.7456971184691189, 0.11599732953964072, 0.04971314123127459, 0.04971314123127459, 0.14537888982903424, 0.030287268714382132, 0.5330559293731255, 0.27864287217231565, 0.01817236122862928, 0.7029720983022674, 0.015621602184494831, 0.21870243058292763, 0.04686480655348449, 0.9434523369838729, 0.04101966682538578, 0.9768431741031643, 0.007590279912073779, 0.994326668481665, 0.983808812960384, 0.05584493062141438, 0.10052087511854588, 0.022337972248565752, 0.81533598707265, 0.11069865076087956, 0.04744227889751981, 0.18449775126813261, 0.031628185931679875, 0.6272923543116509, 0.9187716782342555, 0.9855314101504213, 0.9639411711420355, 0.04211997866399735, 0.40013979730797483, 0.5264997332999669, 0.0233118426091437, 0.9557855469748918, 0.7408452327477387, 0.016837391653357698, 0.16837391653357697, 0.06734956661343079, 0.32358901133774504, 0.006222865602648943, 0.23646889290065984, 0.01866859680794683, 0.41070912977483026, 0.9790896890107273, 0.08232777219122288, 0.07409499497210059, 0.1975866532589349, 0.024698331657366863, 0.6174582914341715, 0.8819263692501315, 0.10755199625001603, 0.04955522463670321, 0.20441530162640076, 0.22919291394475236, 0.012388806159175803, 0.5079410525262079, 0.9730763360115818, 0.9517097050073354, 0.985888309237924, 0.1565800939901768, 0.059246522050337175, 0.18197146058317845, 0.008463788864333882, 0.5924652205033717, 0.350968919857464, 0.0060511882734045515, 0.04235831791383186, 0.5990676390670506, 0.19699973291830128, 0.1641664440985844, 0.6238324875746207, 0.0391146055600966, 0.3285626867048114, 0.3207397655927921, 0.30509392336875346, 0.9046428264865367, 0.14717370237100846, 0.14717370237100846, 0.131681733700376, 0.023237953005948705, 0.5499648878074527, 0.011780964110340731, 0.047123856441362924, 0.9424771288272585, 0.016719173731405003, 0.050157521194215016, 0.9195545552272752, 0.9831898306255151, 0.9338892717019847, 0.049152066931683405, 0.08196570731822693, 0.08909316012850753, 0.3278628292729077, 0.49892169671964215, 0.03510906224012335, 0.7841023900294215, 0.058515103733538916, 0.11703020746707783, 0.2416587118610647, 0.6041467796526617, 0.06693917081082619, 0.9371483913515667, 0.009732843466913981, 0.7494289469523766, 0.22385539973902158, 0.019465686933827962, 0.02039311611682462, 0.05098279029206155, 0.7851349704977478, 0.03058967417523693, 0.11216213864253541, 0.07045682876017788, 0.30296436366876484, 0.6059287273375297, 0.02113704862805336, 0.016198968892362397, 0.25918350227779835, 0.6965556623715831, 0.016198968892362397, 0.9725472889512974, 0.0414683988665282, 0.9537731739301486, 0.023190048030782156, 0.9507919692620683, 0.056562677261490786, 0.08998607746146262, 0.7713092353839652, 0.01028412313845287, 0.0745598927537833, 0.1964403503530888, 0.6449791503259749, 0.1604262861216892, 0.9854327180416803, 0.1205021056871773, 0.4171226735325368, 0.4217573699051205, 0.032442874608086196, 0.009269392745167485, 0.1751895576006491, 0.8133800888601567, 0.1932689605654476, 0.29990011122224625, 0.05331557532839933, 0.45318239029139434, 0.9439403116922, 0.9868209839771626, 0.057927642431207564, 0.2896382121560378, 0.5985856384558115, 0.057927642431207564, 0.182594695150053, 0.06351119831306191, 0.2302280938848494, 0.5239673860827607, 0.8822560731592084, 0.025948708034094364, 0.07784612410228309, 0.979122066778254, 0.974152668405715, 0.9634725739339243, 0.9890743853999018, 0.9528265117236364, 0.05505003614258297, 0.8074005300912169, 0.13762509035645742, 0.011304402500600217, 0.1356528300072026, 0.4936255758595428, 0.026376939168067173, 0.3278276725174063, 0.10970901136167098, 0.6682276146574505, 0.14960319731136953, 0.05984127892454781, 0.01994709297484927, 0.7625525700149549, 0.14919506804640423, 0.08288614891466901, 0.9352043405511183, 0.03817160573678034, 0.01908580286839017, 0.9179392097621819, 0.9791471645133367, 0.9256748213294932, 0.3772830856334121, 0.1169046180835925, 0.14878769574275408, 0.09564923297748477, 0.26037846754981964, 0.8124890662796297, 0.15089082659478836, 0.034820959983412704, 0.06159427246005763, 0.7760878329967261, 0.08623198144408069, 0.024637708984023052, 0.049275417968046104, 0.9723968908369189, 0.03889587563347676, 0.681304770371491, 0.030280212016510707, 0.15140106008255355, 0.015140106008255353, 0.10598074205778749, 0.9860618477954795, 0.8442638082787407, 0.05116750353204489, 0.025583751766022445, 0.07675125529806734, 0.02135750017173802, 0.9610875077282109, 0.021561717723572196, 0.19405545951214978, 0.45279607219501616, 0.32342576585358296, 0.04775774125325333, 0.9312759544384398, 0.023878870626626664, 0.8413699518855178, 0.15297635488827596, 0.3239285314125438, 0.6478570628250876, 0.9860075615450904, 0.016778246177388156, 0.10066947706432894, 0.8624018535177512, 0.013422596941910525, 0.010066947706432893, 0.9470315267248146, 0.023545766014924644, 0.7063729804477393, 0.08241018105223626, 0.18836612811939715, 0.021353576483876573, 0.5893587109549934, 0.3886350920065536, 0.018419902482898015, 0.8841553191791046, 0.09209951241449006, 0.07628658406242195, 0.20706358531228813, 0.6974773399992864, 0.01089808343748885, 0.024737563808353954, 0.3413783805552845, 0.5640164548304701, 0.06926517866339106, 0.9832503707506116, 0.8841658790425602, 0.11052073488032002, 0.04944613676342219, 0.9394765985050216, 0.2597067713369071, 0.6752376054759586, 0.9612679176444986, 0.042723018561977716, 0.9464887911259566, 0.9526529003928685, 0.027218654296939104, 0.01134275260570871, 0.2949115677484265, 0.37431083598838744, 0.2949115677484265, 0.02268550521141742, 0.97508090847937, 0.9768403988953394, 0.07644785055488121, 0.7166985989520114, 0.20067560770656317, 0.009555981319360151, 0.9116447680965692, 0.07597039734138077, 0.04312640487150915, 0.04312640487150915, 0.23719522679330032, 0.5390800608938644, 0.12937921461452745, 0.8971779567590082, 0.046009125987641446, 0.046009125987641446, 0.011502281496910361, 0.04944612830035648, 0.9394764377067731, 0.3640015683070266, 0.04254563785406805, 0.21272818927034023, 0.0756366895183432, 0.3025467580733728, 0.9118002475876291, 0.045590012379381456, 0.5259217089368756, 0.11027390671257069, 0.22054781342514138, 0.04241304104329642, 0.11027390671257069, 0.9486184299183295, 0.02496364289258762, 0.04457542837513957, 0.9583717100655008, 0.9741590756959435, 0.06429667747593426, 0.002521438332389579, 0.4815947214864096, 0.010085753329558316, 0.4425124273343711, 0.02658729251085038, 0.02658729251085038, 0.9305552378797634, 0.08676863807691229, 0.15039897266664798, 0.6073804665383861, 0.15618354853844213, 0.838704634012386, 0.13479181618056205, 0.029953736929013784, 0.4500789265498901, 0.16366506419996005, 0.26186410271993604, 0.016366506419996003, 0.11456554493997202, 0.20609997705509356, 0.5358599403432432, 0.22258797521950102, 0.03297599632881497, 0.9591553245263712, 0.019340220358765068, 0.9670110179382534, 0.01953944026237056, 0.3907888052474112, 0.36147964485385536, 0.18562468249252032, 0.03907888052474112, 0.6389665077890981, 0.2513966588022681, 0.0837988862674227, 0.020949721566855675, 0.43425179239339484, 0.26174080637410096, 0.17845964070961431, 0.029743273451602385, 0.09517847504512764, 0.008075401576004747, 0.2907144567361709, 0.12920642521607595, 0.5006748977122943, 0.06460321260803797, 0.07162617253160472, 0.9311402429108614, 0.9858899031337274, 0.9768477215452332, 0.8252089287645274, 0.1650417857529055, 0.9582901527795722, 0.15040708577895082, 0.8272389717842294, 0.037601771444737704, 0.17354526776314316, 0.23139369035085758, 0.13980035458697646, 0.24585579599778618, 0.21211088282161944, 0.9688069165035871, 0.9634718147843109, 0.9877399224950695, 0.974159402780917, 0.9730856837573962, 0.0202582778176346, 0.5449476732943708, 0.4071913841344555, 0.02430993338116152, 0.00202582778176346, 0.46023853805278503, 0.3825359277321849, 0.1285081632225309, 0.02988561935407695, 0.2985972002214367, 0.7025816475798511, 0.2245663131393254, 0.03962934937752801, 0.2641956625168534, 0.42271306002696546, 0.05283913250337068, 0.24792201403646336, 0.6941816393020974, 0.10361062324280057, 0.8703292352395248, 0.9155906582008511, 0.03703761507923385, 0.9259403769808462, 0.06942763081683227, 0.610963151188124, 0.25688223402227944, 0.041656578490099364, 0.020828289245049682, 0.20515650877314218, 0.752240532168188, 0.3744959386914305, 0.3517992151343741, 0.23831559734909213, 0.03404508533558459, 0.9416918597765408, 0.03553554187836003, 0.8635719018658119, 0.10159669433715435, 0.016932782389525725, 0.9633156388043324, 0.9401648607986184, 0.14675831426274502, 0.041930946932212866, 0.1257928407966386, 0.010482736733053217, 0.6708951509154059, 0.1581206596825119, 0.0527068865608373, 0.22588665668930274, 0.03764777611488379, 0.5270688656083731, 0.0360494480803202, 0.05046922731244828, 0.05767911692851232, 0.02162966884819212, 0.8291373058473646, 0.9517258864442061, 0.9688002292594615, 0.9887573654479934, 0.3781991752776052, 0.594312989721951, 0.33209974368551254, 0.47490263347028294, 0.1693708692796114, 0.019925984621130752, 0.2229296090850659, 0.5162580420917315, 0.1407976478431995, 0.06648777814817755, 0.05084359505448871, 0.02296922553121268, 0.8957997957172945, 0.04593845106242536, 0.02296922553121268, 0.949141175606059, 0.06091897156583751, 0.12183794313167502, 0.8122529542111668, 0.017710029160661344, 0.9386315455150511, 0.017710029160661344, 0.10888282802069542, 0.7621797961448679, 0.006805176751293464, 0.12249318152328234, 0.017283497863414345, 0.05185049359024303, 0.9333088846243747, 0.2402202463085819, 0.43732403815152093, 0.043116454465642905, 0.04927594796073475, 0.22790125931839822, 0.2710430240146065, 0.10255681989741867, 0.21976461406589717, 0.04029017924541448, 0.3662743567764953, 0.966611080643811, 0.24360344959163416, 0.1059145433007105, 0.5401641708336236, 0.11121027046574603, 0.9570291314565136, 0.13240572769611622, 0.13240572769611622, 0.7355873760895345, 0.09366222854621184, 0.08429600569159065, 0.7680302740789371, 0.02809866856386355, 0.02809866856386355, 0.974159335084903, 0.03639508390049874, 0.01819754195024937, 0.03639508390049874, 0.8916795555622192, 0.5725701122719187, 0.022902804490876744, 0.14886822919069884, 0.2519308493996442, 0.9688104492074915, 0.2503359005466261, 0.34661893921840536, 0.23878193590601257, 0.011553964640613512, 0.15405286187484682, 0.11726942414147377, 0.2501747715018107, 0.4612597349564635, 0.007817961609431585, 0.16026821299334748, 0.02409858971079399, 0.09639435884317596, 0.8675492295885836, 0.971321015505355, 0.9740997821452453, 0.049398177021067004, 0.049398177021067004, 0.8891671863792061, 0.0641890349563379, 0.8665519719105618, 0.0641890349563379, 0.05912867260196978, 0.07391084075246222, 0.21434143818214046, 0.6504153986216676], \"Term\": [\"000\", \"000\", \"000\", \"000\", \"000\", \"1960\", \"1960\", \"1960\", \"63\", \"63\", \"academic\", \"academic\", \"accommodate\", \"accommodate\", \"act\", \"act\", \"act\", \"act\", \"activities\", \"activities\", \"activities\", \"administration\", \"administration\", \"administration\", \"alexander\", \"alexander\", \"amateur\", \"american\", \"american\", \"american\", \"american\", \"american\", \"area\", \"area\", \"area\", \"area\", \"area\", \"asked\", \"asked\", \"asked\", \"asked\", \"asked\", \"assessment\", \"assessment\", \"aug\", \"available\", \"available\", \"available\", \"available\", \"available\", \"away\", \"away\", \"away\", \"away\", \"baby\", \"baby\", \"ball\", \"ball\", \"baseball\", \"bat\", \"battery\", \"battery\", \"bed\", \"bed\", \"bed\", \"berlin\", \"best\", \"best\", \"best\", \"best\", \"best\", \"better\", \"better\", \"better\", \"better\", \"better\", \"blocks\", \"blocks\", \"blocks\", \"board\", \"board\", \"board\", \"board\", \"board\", \"boat\", \"boat\", \"boat\", \"boat\", \"boats\", \"boats\", \"boats\", \"bob\", \"bob\", \"bombs\", \"boy\", \"boy\", \"boy\", \"bridge\", \"bridge\", \"business\", \"business\", \"business\", \"business\", \"business\", \"came\", \"came\", \"came\", \"came\", \"castro\", \"catastrophe\", \"catastrophe\", \"cattle\", \"cattle\", \"cattle\", \"center\", \"center\", \"center\", \"center\", \"charlie\", \"charter\", \"chemical\", \"chemical\", \"chemical\", \"chest\", \"chest\", \"child\", \"child\", \"child\", \"child\", \"city\", \"city\", \"city\", \"city\", \"city\", \"claim\", \"claim\", \"claim\", \"claims\", \"claims\", \"claims\", \"claims\", \"class\", \"class\", \"class\", \"class\", \"class\", \"clay\", \"clay\", \"clay\", \"clay\", \"club\", \"club\", \"club\", \"club\", \"coach\", \"college\", \"college\", \"college\", \"college\", \"college\", \"come\", \"come\", \"come\", \"come\", \"come\", \"committee\", \"committee\", \"committee\", \"communism\", \"communist\", \"communist\", \"communist\", \"communists\", \"company\", \"company\", \"company\", \"company\", \"company\", \"comprehensive\", \"concrete\", \"concrete\", \"concrete\", \"congo\", \"conversion\", \"conversion\", \"conversion\", \"cooling\", \"cooling\", \"cooling\", \"corps\", \"corps\", \"corps\", \"couldn\", \"couldn\", \"couldn\", \"council\", \"council\", \"council\", \"council\", \"county\", \"county\", \"court\", \"court\", \"court\", \"court\", \"coverage\", \"coverage\", \"creative\", \"creative\", \"credit\", \"credit\", \"credit\", \"credit\", \"cuba\", \"curriculum\", \"cut\", \"cut\", \"cut\", \"cut\", \"dad\", \"daily\", \"daily\", \"daily\", \"day\", \"day\", \"day\", \"day\", \"day\", \"dear\", \"democratic\", \"democratic\", \"democrats\", \"department\", \"department\", \"department\", \"department\", \"depreciation\", \"designers\", \"development\", \"development\", \"development\", \"development\", \"didn\", \"didn\", \"didn\", \"didn\", \"don\", \"don\", \"don\", \"don\", \"don\", \"door\", \"door\", \"door\", \"door\", \"drill\", \"drill\", \"drill\", \"east\", \"east\", \"east\", \"east\", \"educated\", \"election\", \"election\", \"electricity\", \"electricity\", \"electricity\", \"employee\", \"engine\", \"engine\", \"engine\", \"engine\", \"engine\", \"engineers\", \"engineers\", \"engineers\", \"evaluation\", \"exceed\", \"exceed\", \"expenditures\", \"expenditures\", \"eyes\", \"eyes\", \"eyes\", \"eyes\", \"faculty\", \"faculty\", \"farm\", \"farm\", \"farm\", \"farm\", \"farmers\", \"farmers\", \"father\", \"father\", \"father\", \"favorite\", \"feed\", \"feed\", \"feed\", \"felt\", \"felt\", \"felt\", \"felt\", \"fig\", \"fig\", \"fiscal\", \"fiscal\", \"fishing\", \"fishing\", \"football\", \"football\", \"forests\", \"fountain\", \"frame\", \"frame\", \"frame\", \"gallery\", \"game\", \"game\", \"game\", \"game\", \"game\", \"games\", \"games\", \"gen\", \"general\", \"general\", \"general\", \"general\", \"general\", \"georgia\", \"georgia\", \"girl\", \"girl\", \"girl\", \"god\", \"god\", \"going\", \"going\", \"going\", \"going\", \"golf\", \"golf\", \"good\", \"good\", \"good\", \"good\", \"good\", \"got\", \"got\", \"got\", \"government\", \"government\", \"government\", \"government\", \"green\", \"green\", \"green\", \"hadn\", \"hair\", \"hair\", \"handsome\", \"head\", \"head\", \"head\", \"head\", \"head\", \"hearing\", \"hearing\", \"hearing\", \"heel\", \"hell\", \"high\", \"high\", \"high\", \"high\", \"high\", \"hit\", \"hit\", \"hit\", \"hits\", \"hole\", \"hole\", \"holes\", \"home\", \"home\", \"home\", \"home\", \"home\", \"homer\", \"house\", \"house\", \"house\", \"house\", \"house\", \"hughes\", \"import\", \"import\", \"important\", \"important\", \"important\", \"important\", \"important\", \"imports\", \"inch\", \"inch\", \"inch\", \"india\", \"india\", \"industrial\", \"industrial\", \"industrial\", \"industrial\", \"interest\", \"interest\", \"interest\", \"interest\", \"interest\", \"interference\", \"interference\", \"interference\", \"interior\", \"interior\", \"inventory\", \"island\", \"island\", \"island\", \"island\", \"island\", \"john\", \"john\", \"john\", \"john\", \"john\", \"junior\", \"junior\", \"junior\", \"junior\", \"jury\", \"jury\", \"katanga\", \"kennedy\", \"kennedy\", \"khrushchev\", \"knew\", \"knew\", \"knew\", \"knew\", \"know\", \"know\", \"know\", \"know\", \"know\", \"laboratories\", \"laos\", \"laughed\", \"laws\", \"laws\", \"laws\", \"leader\", \"leader\", \"league\", \"league\", \"league\", \"league\", \"left\", \"left\", \"left\", \"left\", \"left\", \"leg\", \"let\", \"let\", \"let\", \"let\", \"let\", \"library\", \"library\", \"life\", \"life\", \"life\", \"life\", \"life\", \"liked\", \"lips\", \"listening\", \"little\", \"little\", \"little\", \"little\", \"little\", \"ll\", \"ll\", \"ll\", \"ll\", \"loans\", \"loans\", \"loans\", \"local\", \"local\", \"local\", \"local\", \"locations\", \"look\", \"look\", \"look\", \"look\", \"look\", \"looked\", \"looked\", \"looked\", \"love\", \"love\", \"love\", \"loved\", \"maintain\", \"maintain\", \"man\", \"man\", \"man\", \"man\", \"management\", \"management\", \"management\", \"management\", \"manufactured\", \"manufactured\", \"mayor\", \"mayor\", \"medical\", \"medical\", \"medical\", \"medical\", \"meeting\", \"meeting\", \"meeting\", \"meeting\", \"meeting\", \"members\", \"members\", \"members\", \"members\", \"military\", \"military\", \"military\", \"military\", \"moscow\", \"mother\", \"mother\", \"motors\", \"motors\", \"mr\", \"mr\", \"mr\", \"mr\", \"mr\", \"mrs\", \"mrs\", \"mrs\", \"musical\", \"national\", \"national\", \"national\", \"national\", \"national\", \"nations\", \"nations\", \"night\", \"night\", \"night\", \"night\", \"nodded\", \"nuclear\", \"officer\", \"officer\", \"officer\", \"officer\", \"old\", \"old\", \"old\", \"old\", \"organizations\", \"organizations\", \"organizations\", \"paint\", \"paintings\", \"pale\", \"panels\", \"participation\", \"party\", \"party\", \"party\", \"people\", \"people\", \"people\", \"people\", \"people\", \"period\", \"period\", \"period\", \"period\", \"period\", \"piece\", \"piece\", \"piece\", \"pieces\", \"pieces\", \"pieces\", \"pitcher\", \"pitching\", \"pittsburgh\", \"place\", \"place\", \"place\", \"place\", \"place\", \"planning\", \"planning\", \"planning\", \"plant\", \"plant\", \"plant\", \"plant\", \"plant\", \"plastic\", \"plastic\", \"play\", \"play\", \"play\", \"play\", \"play\", \"player\", \"playing\", \"playing\", \"playing\", \"playing\", \"police\", \"police\", \"policy\", \"policy\", \"policy\", \"policy\", \"political\", \"political\", \"political\", \"pool\", \"pool\", \"pound\", \"pound\", \"premier\", \"president\", \"president\", \"president\", \"president\", \"president\", \"producers\", \"production\", \"production\", \"production\", \"production\", \"program\", \"program\", \"program\", \"projects\", \"projects\", \"projects\", \"property\", \"property\", \"property\", \"property\", \"public\", \"public\", \"public\", \"public\", \"publications\", \"published\", \"published\", \"puerto\", \"puerto\", \"ratio\", \"ratio\", \"rayburn\", \"rayburn\", \"recommendation\", \"recreation\", \"recreation\", \"report\", \"report\", \"report\", \"report\", \"report\", \"republican\", \"republicans\", \"research\", \"research\", \"research\", \"research\", \"resources\", \"resources\", \"respect\", \"respect\", \"respect\", \"respect\", \"respect\", \"rhode\", \"rhode\", \"rhode\", \"rhode\", \"rico\", \"rico\", \"right\", \"right\", \"right\", \"right\", \"right\", \"roy\", \"roy\", \"run\", \"run\", \"run\", \"run\", \"run\", \"runs\", \"runs\", \"russia\", \"russia\", \"ruth\", \"said\", \"said\", \"said\", \"said\", \"said\", \"sat\", \"sat\", \"sat\", \"school\", \"school\", \"school\", \"school\", \"season\", \"season\", \"season\", \"second\", \"second\", \"second\", \"second\", \"second\", \"secretary\", \"secretary\", \"secretary\", \"secretary\", \"sen\", \"senate\", \"senate\", \"service\", \"service\", \"service\", \"service\", \"service\", \"services\", \"services\", \"services\", \"services\", \"set\", \"set\", \"set\", \"set\", \"set\", \"shall\", \"shall\", \"shall\", \"shall\", \"shall\", \"shelter\", \"shelter\", \"shoes\", \"sick\", \"signs\", \"signs\", \"silent\", \"site\", \"site\", \"site\", \"small\", \"small\", \"small\", \"small\", \"small\", \"smile\", \"smiled\", \"soviet\", \"stadium\", \"stared\", \"state\", \"state\", \"state\", \"state\", \"state\", \"states\", \"states\", \"states\", \"states\", \"stations\", \"stations\", \"stock\", \"stock\", \"stock\", \"stock\", \"stock\", \"stockholders\", \"stockholders\", \"stood\", \"stood\", \"strange\", \"susan\", \"susan\", \"system\", \"system\", \"system\", \"system\", \"system\", \"tangible\", \"tangible\", \"tax\", \"tax\", \"tax\", \"tax\", \"team\", \"team\", \"technical\", \"technical\", \"technical\", \"textile\", \"thereof\", \"thing\", \"thing\", \"thing\", \"thing\", \"thing\", \"think\", \"think\", \"think\", \"think\", \"think\", \"thought\", \"thought\", \"thought\", \"thought\", \"thought\", \"till\", \"tongue\", \"troops\", \"trust\", \"trust\", \"united\", \"united\", \"united\", \"united\", \"use\", \"use\", \"use\", \"use\", \"use\", \"vehicles\", \"vehicles\", \"vehicles\", \"vehicles\", \"vernon\", \"voice\", \"voice\", \"voice\", \"vote\", \"vote\", \"vote\", \"war\", \"war\", \"war\", \"war\", \"wasn\", \"wasn\", \"wasn\", \"water\", \"water\", \"water\", \"water\", \"water\", \"way\", \"way\", \"way\", \"way\", \"way\", \"weapons\", \"week\", \"week\", \"week\", \"week\", \"welfare\", \"went\", \"went\", \"went\", \"west\", \"west\", \"west\", \"west\", \"west\", \"willie\", \"woman\", \"woman\", \"woman\", \"woman\", \"won\", \"won\", \"won\", \"won\", \"wondered\", \"work\", \"work\", \"work\", \"work\", \"work\", \"world\", \"world\", \"world\", \"world\", \"world\", \"wouldn\", \"wouldn\", \"wouldn\", \"yankees\", \"yards\", \"yes\", \"yes\", \"yes\", \"yesterday\", \"yesterday\", \"yesterday\", \"young\", \"young\", \"young\", \"young\"]}, \"R\": 30, \"lambda.step\": 0.01, \"plot.opts\": {\"xlab\": \"PC1\", \"ylab\": \"PC2\"}, \"topic.order\": [1, 2, 3, 4, 5]};\n",
       "\n",
       "function LDAvis_load_lib(url, callback){\n",
       "  var s = document.createElement('script');\n",
       "  s.src = url;\n",
       "  s.async = true;\n",
       "  s.onreadystatechange = s.onload = callback;\n",
       "  s.onerror = function(){console.warn(\"failed to load library \" + url);};\n",
       "  document.getElementsByTagName(\"head\")[0].appendChild(s);\n",
       "}\n",
       "\n",
       "if(typeof(LDAvis) !== \"undefined\"){\n",
       "   // already loaded: just create the visualization\n",
       "   !function(LDAvis){\n",
       "       new LDAvis(\"#\" + \"ldavis_el77377108026196481610660505\", ldavis_el77377108026196481610660505_data);\n",
       "   }(LDAvis);\n",
       "}else if(typeof define === \"function\" && define.amd){\n",
       "   // require.js is available: use it to load d3/LDAvis\n",
       "   require.config({paths: {d3: \"https://d3js.org/d3.v5\"}});\n",
       "   require([\"d3\"], function(d3){\n",
       "      window.d3 = d3;\n",
       "      LDAvis_load_lib(\"https://cdn.jsdelivr.net/gh/bmabey/pyLDAvis@3.3.1/pyLDAvis/js/ldavis.v3.0.0.js\", function(){\n",
       "        new LDAvis(\"#\" + \"ldavis_el77377108026196481610660505\", ldavis_el77377108026196481610660505_data);\n",
       "      });\n",
       "    });\n",
       "}else{\n",
       "    // require.js not available: dynamically load d3 & LDAvis\n",
       "    LDAvis_load_lib(\"https://d3js.org/d3.v5.js\", function(){\n",
       "         LDAvis_load_lib(\"https://cdn.jsdelivr.net/gh/bmabey/pyLDAvis@3.3.1/pyLDAvis/js/ldavis.v3.0.0.js\", function(){\n",
       "                 new LDAvis(\"#\" + \"ldavis_el77377108026196481610660505\", ldavis_el77377108026196481610660505_data);\n",
       "            })\n",
       "         });\n",
       "}\n",
       "</script>"
      ],
      "text/plain": [
       "<IPython.core.display.HTML object>"
      ]
     },
     "execution_count": 19,
     "metadata": {},
     "output_type": "execute_result"
    }
   ],
   "source": [
    "pyLDAvis.display(lda_display)"
   ]
  },
  {
   "cell_type": "markdown",
   "id": "a3d14c87",
   "metadata": {},
   "source": [
    "Q: What conclusions do you draw from the visualization above? Please address the principal component scatterplot and the salient terms graph.\n",
    "\n",
    "A: Similar to how we saw when looking at the the sum of results, we see that topic 4 seems to have much less words attributed than the other topics and that topic 3 seems to have more than the others. This indicates that the words are not distributed to the 5 topics completely evenly, but seem to be better than the other models."
   ]
  }
 ],
 "metadata": {
  "kernelspec": {
   "display_name": "Python 3 (ipykernel)",
   "language": "python",
   "name": "python3"
  },
  "language_info": {
   "codemirror_mode": {
    "name": "ipython",
    "version": 3
   },
   "file_extension": ".py",
   "mimetype": "text/x-python",
   "name": "python",
   "nbconvert_exporter": "python",
   "pygments_lexer": "ipython3",
   "version": "3.10.9"
  }
 },
 "nbformat": 4,
 "nbformat_minor": 5
}
